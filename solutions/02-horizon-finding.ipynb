{
 "cells": [
  {
   "cell_type": "markdown",
   "metadata": {},
   "source": [
    "# Apparent horizons"
   ]
  },
  {
   "cell_type": "markdown",
   "metadata": {},
   "source": [
    "We're now going to use finite differences to find a black hole apparent horizon.\n",
    "\n",
    "The spacetime we're going to look at is simplified:\n",
    "\n",
    "* $3+1$ split (we're looking at one slice, so one instant in \"time\");\n",
    "* axisymmetric (so we can consider only two dimensions in space, using $r, \\theta$);\n",
    "* \"bitant\" or \"reflection\" symmetric (so we only consider $\\theta \\in [0, \\pi/2]$);\n",
    "* all singularities have bare mass $1$;\n",
    "* time-symmetric (the extrinsic curvature vanishes).\n",
    "\n",
    "We then compute the expansion of outgoing null geodesics, and look for where this vanishes. The surface with radius $h(\\theta)$ where this occurs is the apparent horizon. With our assumptions, $h$ obeys the boundary value problem\n",
    "\n",
    "$$\n",
    "  \\frac{d^2 h}{d \\theta^2} = 2 h + \\frac{3}{h} \\left( \\frac{d h}{d \\theta} \\right)^2 + f \\left( \\theta, h, \\frac{d h}{d \\theta} \\right), \\qquad \\frac{d h}{d \\theta} ( \\theta = 0 ) = 0 = \\frac{d h}{d \\theta} ( \\theta = \\pi/2 ).\n",
    "$$"
   ]
  },
  {
   "cell_type": "markdown",
   "metadata": {},
   "source": [
    "The function $f$ encodes the spacetime effects due to the singularities. \n",
    "\n",
    "To solve this problem we convert to *first order form*. Introduce the vector \n",
    "\n",
    "$$\n",
    "  {\\bf H} = \\begin{pmatrix} h \\\\ \\frac{d h}{d \\theta} \\end{pmatrix}.\n",
    "$$\n",
    "\n",
    "Then we have the problem\n",
    "\n",
    "$$\n",
    "  \\frac{d}{d \\theta} {\\bf H} = {\\bf F}({\\bf H}, \\theta) = \\begin{pmatrix} H_2 \\\\ 2 H_1 + \\frac{3}{H_1} H_2^2 + f(\\theta, {\\bf H}) \\end{pmatrix}, \\qquad H_2(\\theta = 0) = 0 = H_2(\\theta = \\pi/2).\n",
    "$$\n",
    "\n",
    "We'll give the entire right-hand-side as code:"
   ]
  },
  {
   "cell_type": "code",
   "execution_count": null,
   "metadata": {
    "collapsed": true
   },
   "outputs": [],
   "source": [
    "import numpy\n",
    "from matplotlib import pyplot\n",
    "%matplotlib notebook"
   ]
  },
  {
   "cell_type": "code",
   "execution_count": null,
   "metadata": {
    "collapsed": true
   },
   "outputs": [],
   "source": [
    "def horizon_RHS(H, theta, z_singularities):\n",
    "    \"\"\"\n",
    "    The RHS function for the apparent horizon problem.\n",
    "    \n",
    "    Parameters\n",
    "    ----------\n",
    "    \n",
    "    H : array\n",
    "        vector [h, dh/dtheta]\n",
    "    theta : double\n",
    "        angle\n",
    "    z_singularities : array\n",
    "        Location of the singularities on the z axis; non-negative\n",
    "    \n",
    "    Returns\n",
    "    -------\n",
    "    \n",
    "    dHdtheta : array\n",
    "        RHS\n",
    "    \"\"\"\n",
    "    \n",
    "    assert(numpy.all(numpy.array(z_singularities) >= 0.0)), \"Location of singularities cannot be negative\"\n",
    "    \n",
    "    h = H[0]\n",
    "    dh = H[1]\n",
    "    \n",
    "    psi = 1.0\n",
    "    dpsi_dr = 0.0\n",
    "    dpsi_dtheta = 0.0\n",
    "    for z in z_singularities:\n",
    "        distance = numpy.sqrt((h*numpy.sin(theta))**2 + (h*numpy.cos(theta) - z)**2)\n",
    "        psi += 0.5/distance\n",
    "        dpsi_dr -= 0.5*(h-z*numpy.cos(theta))/distance**3\n",
    "        dpsi_dtheta -= 0.5**h*z*numpy.sin(theta)/distance**3\n",
    "        # Apply reflection symmetry\n",
    "        if z > 0.0:\n",
    "            distance = numpy.sqrt((h*numpy.sin(theta))**2 + (h*numpy.cos(theta) + z)**2)\n",
    "            psi += 0.5/distance\n",
    "            dpsi_dr -= 0.5*(h+z*numpy.cos(theta))/distance**3\n",
    "            dpsi_dtheta += 0.5**h*z*numpy.sin(theta)/distance**3\n",
    "            \n",
    "\n",
    "    C2 = 1.0 / (1.0 + (dh / h)**2)\n",
    "    # Impose that the term involving cot(theta) vanishes on axis.\n",
    "    if (abs(theta) < 1e-16) or (abs(theta - numpy.pi) < 1e-16):\n",
    "        cot_theta_dh_C2 = 0.0\n",
    "    else:\n",
    "        cot_theta_dh_C2 = dh / (numpy.tan(theta) * C2)\n",
    "        \n",
    "    dHdtheta = numpy.zeros_like(H)\n",
    "    dHdtheta[0] = dh\n",
    "    dHdtheta[1] = 2.0*h - cot_theta_dh_C2 + 4.0*h**2/(psi*C2)*(dpsi_dr - dpsi_dtheta*dh/h**2) + 3.0*dh**2/h\n",
    "    \n",
    "    return dHdtheta"
   ]
  },
  {
   "cell_type": "markdown",
   "metadata": {},
   "source": [
    "We now need to solve the boundary value problem. We'll do this using *shooting*."
   ]
  },
  {
   "cell_type": "markdown",
   "metadata": {},
   "source": [
    "# Shooting"
   ]
  },
  {
   "cell_type": "markdown",
   "metadata": {},
   "source": [
    "## Initial Value Problems"
   ]
  },
  {
   "cell_type": "markdown",
   "metadata": {},
   "source": [
    "If we knew the initial radius of the horizon, $h(\\theta = 0) = H_1(\\theta = 0) = h_0$, we could solve the *initial* value problem\n",
    "\n",
    "$$\n",
    "  \\frac{d}{d \\theta} {\\bf H} = {\\bf F}({\\bf H}, \\theta) = \\begin{pmatrix} H_2 \\\\ 2 H_1 + \\frac{3}{H_1} H_2^2 + f(\\theta, {\\bf H}) \\end{pmatrix}, \\qquad {\\bf H}(\\theta = 0) = \\begin{pmatrix} h_0 \\\\ 0 \\end{pmatrix}.\n",
    "$$\n",
    "\n",
    "For example, the simple Schwarzschild black hole will have $h_0 = 1/2$, in this slicing.\n",
    "\n",
    "To solve the initial value problem we can re-use our finite differencing algorithms. For example, we evaluate the initial value problem equation at $\\theta_i$ using forward differencing, to get\n",
    "\n",
    "\\begin{align}\n",
    "  \\left. \\frac{d}{d \\theta} {\\bf H} \\right|_{\\theta = \\theta_i} & \\approx \\frac{1}{\\Delta \\theta} \\left( {\\bf H}^{(i+1)} - {\\bf H}^{(i)} \\right) \\\\\n",
    "  & = {\\bf F}({\\bf H}^{(i)}, \\theta_i),\n",
    "\\end{align}\n",
    "\n",
    "where we have denoted ${\\bf H}(\\theta_i) \\equiv {\\bf H}^{(i)}$. We then re-arrange this to get *Euler's method*\n",
    "\n",
    "$$\n",
    "  {\\bf H}^{(i+1)} = {\\bf H}^{(i)} + \\Delta \\theta \\, {\\bf F}({\\bf H}^{(i)}, \\theta_i).\n",
    "$$\n",
    "\n",
    "We can use this to solve for the Schwarzschild case:"
   ]
  },
  {
   "cell_type": "code",
   "execution_count": null,
   "metadata": {
    "collapsed": true
   },
   "outputs": [],
   "source": [
    "def euler_step(Hi, theta_i, dtheta, z_singularity):\n",
    "    \"\"\"\n",
    "    Euler's method - one step\n",
    "    \"\"\"\n",
    "    \n",
    "    return Hi + dtheta*horizon_RHS(Hi, theta_i, z_singularity)"
   ]
  },
  {
   "cell_type": "code",
   "execution_count": null,
   "metadata": {
    "collapsed": false
   },
   "outputs": [],
   "source": [
    "Ntheta = 100\n",
    "z_singularity = [0.0]\n",
    "theta = numpy.linspace(0.0, numpy.pi/2.0, Ntheta)\n",
    "dtheta = theta[1] - theta[0]\n",
    "H = numpy.zeros((2, Ntheta))\n",
    "H[:, 0] = [0.5, 0.0]\n",
    "\n",
    "for i in range(Ntheta-1):\n",
    "    H[:, i+1] = euler_step(H[:, i], theta[i], dtheta, z_singularity)"
   ]
  },
  {
   "cell_type": "code",
   "execution_count": null,
   "metadata": {
    "collapsed": false
   },
   "outputs": [],
   "source": [
    "pyplot.figure()\n",
    "pyplot.polar(theta, H[0,:])\n",
    "pyplot.show()"
   ]
  },
  {
   "cell_type": "markdown",
   "metadata": {},
   "source": [
    "We see that this has worked nicely. However, Euler's method is very inaccurate on more complex problems, as it's only first order convergent. We would like to use a higher order method."
   ]
  },
  {
   "cell_type": "markdown",
   "metadata": {},
   "source": [
    "### Runge-Kutta methods"
   ]
  },
  {
   "cell_type": "markdown",
   "metadata": {},
   "source": [
    "When looking at central differencing earlier we used information from *both sides* of the point where we took the derivative. This gives higher accuracy, but isn't helpful in the initial value case, where we don't have half the information.\n",
    "\n",
    "Instead, we use many Euler steps *combined*. Each one gives an approximation to \"future\" data, which can be used to approximate the derivative at more locations.\n",
    "\n",
    "For example, the Euler step above starts from ${\\bf H}^{(i)}$ and computes ${\\bf F}^{(i)}$ to approximate ${\\bf H}^{(i+1)}$. We can use this approximation to give us ${\\bf F}^{(i+1)}$.\n",
    "\n",
    "Now, a more accurate solution would be\n",
    "\n",
    "$$\n",
    "  {\\bf H}^{(i+1)} = {\\bf H}^{(i)} + \\int_{\\theta_i}^{\\theta_{i+1}} \\text{d} \\theta \\, {\\bf F}({\\bf H}, \\theta).\n",
    "$$\n",
    "\n",
    "In Euler's method we are effectively representing the value of the integral by the value of the integrand at the start, multiplied by the width $\\Delta \\theta$. We could now approximate it by the *average* value of the integrand, $({\\bf F}^{(i)} + {\\bf F}^{(i+1)})/2$, multiplied by the width $\\Delta \\theta$. This gives the algorithm\n",
    "\n",
    "\\begin{align}\n",
    "  {\\bf H}^{(p)} &= {\\bf H}^{(i)} + \\Delta \\theta \\, {\\bf F}({\\bf H}^{(i)}, \\theta_i), \\\\\n",
    "  {\\bf H}^{(i+1)} &= {\\bf H}^{(i)} + \\frac{\\Delta \\theta}{2} \\left( {\\bf F}({\\bf H}^{(i)}, \\theta_i) + {\\bf F}({\\bf H}^{(p)}, \\theta_{i+1}) \\right) \\\\\n",
    "  &= \\frac{1}{2} \\left( {\\bf H}^{(i)} + {\\bf H}^{(p)} + \\Delta \\theta \\, {\\bf F}({\\bf H}^{(p)}, \\theta_{i+1}) \\right).\n",
    "\\end{align}\n",
    "\n",
    "The final re-arrangement ensures we do not have to store or re-compute ${\\bf F}^{(i)}$. This is one of the *Runge-Kutta* methods. This version is second order accurate, and a big improvement over Euler's method."
   ]
  },
  {
   "cell_type": "code",
   "execution_count": null,
   "metadata": {
    "collapsed": true
   },
   "outputs": [],
   "source": [
    "def rk2_step(Hi, theta_i, dtheta, z_singularity):\n",
    "    \"\"\"\n",
    "    RK2 method - one step\n",
    "    \"\"\"\n",
    "    \n",
    "    Hp = Hi + dtheta * horizon_RHS(Hi, theta_i, z_singularity)\n",
    "    \n",
    "    return 0.5*(Hi + Hp + dtheta*horizon_RHS(Hp, theta_i+dtheta, z_singularity))"
   ]
  },
  {
   "cell_type": "code",
   "execution_count": null,
   "metadata": {
    "collapsed": true
   },
   "outputs": [],
   "source": [
    "H = numpy.zeros((2, Ntheta))\n",
    "H[:, 0] = [0.5, 0.0]\n",
    "\n",
    "for i in range(Ntheta-1):\n",
    "    H[:, i+1] = rk2_step(H[:, i], theta[i], dtheta, z_singularity)"
   ]
  },
  {
   "cell_type": "code",
   "execution_count": null,
   "metadata": {
    "collapsed": false
   },
   "outputs": [],
   "source": [
    "pyplot.figure()\n",
    "pyplot.polar(theta, H[0,:])\n",
    "pyplot.show()"
   ]
  },
  {
   "cell_type": "markdown",
   "metadata": {},
   "source": [
    "## Root finding"
   ]
  },
  {
   "cell_type": "markdown",
   "metadata": {},
   "source": [
    "We still can't find a horizon unless we know the initial radius. However, there is a way around this. Let's see what happens if we compute in the Schwarzschild case, using the wrong initial data:"
   ]
  },
  {
   "cell_type": "code",
   "execution_count": null,
   "metadata": {
    "collapsed": false
   },
   "outputs": [],
   "source": [
    "initial_guesses = numpy.linspace(0.4, 0.6, 10)\n",
    "solutions = []\n",
    "z_singularity = [0.0]\n",
    "\n",
    "for h0 in initial_guesses:\n",
    "    H = numpy.zeros((2,Ntheta))\n",
    "    H[:, 0] = [h0, 0.0]\n",
    "    for i in range(Ntheta-1):\n",
    "        H[:, i+1] = rk2_step(H[:, i], theta[i], dtheta, z_singularity)\n",
    "    solutions.append(H[0,:])\n",
    "    \n",
    "pyplot.figure()\n",
    "for r in solutions:\n",
    "    pyplot.polar(theta, r)\n",
    "pyplot.show()"
   ]
  },
  {
   "cell_type": "markdown",
   "metadata": {},
   "source": [
    "We see that the the surfaces that start with the radius too small are curving back in; their derivative is negative. The surfaces with radius too large are diverging; their derivative is positive. We know that the true solution has vanishing derivative.\n",
    "\n",
    "Let's explicitly plot the derivative at the endpoint."
   ]
  },
  {
   "cell_type": "code",
   "execution_count": null,
   "metadata": {
    "collapsed": false
   },
   "outputs": [],
   "source": [
    "initial_guesses = numpy.linspace(0.4, 0.6, 100)\n",
    "dhdtheta_end = numpy.zeros_like(initial_guesses)\n",
    "z_singularity = [0.0]\n",
    "\n",
    "for guess, h0 in enumerate(initial_guesses):\n",
    "    H = numpy.zeros((2,Ntheta))\n",
    "    H[:, 0] = [h0, 0.0]\n",
    "    for i in range(Ntheta-1):\n",
    "        H[:, i+1] = rk2_step(H[:, i], theta[i], dtheta, z_singularity)\n",
    "    dhdtheta_end[guess] = H[1, -1]\n",
    "    \n",
    "pyplot.figure()\n",
    "pyplot.plot(initial_guesses, dhdtheta_end)\n",
    "pyplot.xlabel(r\"$h_0$\")\n",
    "pyplot.ylabel(r\"$dh/d\\theta(\\pi/2)$\")\n",
    "pyplot.show()"
   ]
  },
  {
   "cell_type": "markdown",
   "metadata": {},
   "source": [
    "We see that the derivative vanishes precisely where the horizon should be, exactly as expected.\n",
    "\n",
    "This also gives us a way of solving for the apparent horizon. We want to solve the equation\n",
    "\n",
    "$$\n",
    "  R(h_0) = 0.\n",
    "$$\n",
    "\n",
    "The function $R$ is given by $R(h_0) = H_2(\\pi/2 ; h_0)$. In other words, we\n",
    "\n",
    "1. compute the solution ${\\bf H}$ given the initial guess $h_0$ for the unknown initial radius $H_1(0)$;\n",
    "2. from the solution for ${\\bf H}$ at $\\theta = \\pi/2$, set $R(h_0) = H_2$.\n",
    "\n",
    "We can code this *residual* function as"
   ]
  },
  {
   "cell_type": "code",
   "execution_count": null,
   "metadata": {
    "collapsed": true
   },
   "outputs": [],
   "source": [
    "def residual(h0, z_singularities):\n",
    "    \"\"\"\n",
    "    The residual function for the shooting method.\n",
    "    \"\"\"\n",
    "    \n",
    "    H = numpy.zeros((2, Ntheta))\n",
    "    H[:, 0] = [h0, 0.0]\n",
    "    for i in range(Ntheta-1):\n",
    "        H[:, i+1] = rk2_step(H[:, i], theta[i], dtheta, z_singularity)\n",
    "        \n",
    "    return H[1, -1]"
   ]
  },
  {
   "cell_type": "markdown",
   "metadata": {},
   "source": [
    "Finally, we need to find the root of this equation."
   ]
  },
  {
   "cell_type": "markdown",
   "metadata": {},
   "source": [
    "### Secant method"
   ]
  },
  {
   "cell_type": "markdown",
   "metadata": {},
   "source": [
    "Problems where we are given an *algebraic, nonlinear* function ${\\bf R}$ and asked to find ${\\bf x}$ such that ${\\bf R}({\\bf x}) = {\\bf 0}$ are *nonlinear root-finding* problems. Many standard solution methods are based on Newton's algorithm:\n",
    "\n",
    "1. Guess the root to be ${\\bf x}^{(0)}$, and set $n=0$;\n",
    "2. Compute the tangent planes to ${\\bf R}$ at ${\\bf x}^{(n)}$;\n",
    "3. Find where these planes intersect zero, and set this to be ${\\bf x}^{(n+1)}$;\n",
    "4. If not converged to root, go to 2.\n",
    "\n",
    "Computing the derivative for the tangent in step 2 is slow; instead we use finite differencing again.\n",
    "\n",
    "In one dimension, Newton's method is\n",
    "\n",
    "$$\n",
    "  x^{(n+1)} = x^{(n)} - \\frac{R(x^{(n)})}{R'(x^{(n)})}.\n",
    "$$\n",
    "\n",
    "Replacing the derivative with a finite difference gives\n",
    "\n",
    "$$\n",
    "  x^{(n+1)} = x^{(n)} - \\frac{R(x^{(n)}) \\left( x^{(n)} - x^{(n-1)} \\right)}{R(x^{(n)}) - R(x^{(n-1)})}.\n",
    "$$\n",
    "\n",
    "This is the *secant* method. It's much easier to implement, but requires two initial guesses."
   ]
  },
  {
   "cell_type": "code",
   "execution_count": null,
   "metadata": {
    "collapsed": true
   },
   "outputs": [],
   "source": [
    "def secant(R, x0, x1, args, tolerance = 1e-10):\n",
    "    \"\"\"\n",
    "    Secant method\n",
    "    \"\"\"\n",
    "    \n",
    "    x = x1\n",
    "    x_p = x0\n",
    "    residual = abs(R(x, args))\n",
    "    while residual > tolerance:\n",
    "        x_new = x - (R(x, args) * (x - x_p)) / (R(x, args) - R(x_p, args))\n",
    "        x_p = x\n",
    "        x = x_new\n",
    "        residual = abs(R(x, args))\n",
    "    \n",
    "    return x"
   ]
  },
  {
   "cell_type": "markdown",
   "metadata": {},
   "source": [
    "We apply this to the Schwarzschild case:"
   ]
  },
  {
   "cell_type": "code",
   "execution_count": null,
   "metadata": {
    "collapsed": false
   },
   "outputs": [],
   "source": [
    "h0 = secant(residual, 0.4, 0.6, z_singularity)\n",
    "print(\"Computed initial radius is {}\".format(h0))"
   ]
  },
  {
   "cell_type": "markdown",
   "metadata": {},
   "source": [
    "And from this we can compute the correct horizon."
   ]
  },
  {
   "cell_type": "markdown",
   "metadata": {},
   "source": [
    "What happens if we get the guess wildly wrong? In this simple case it will nearly always converge to the \"right\" answer, but in general a poor initial guess means the algorithm - or most root-finding algorithms! - won't converge."
   ]
  },
  {
   "cell_type": "markdown",
   "metadata": {},
   "source": [
    "## Put it together"
   ]
  },
  {
   "cell_type": "markdown",
   "metadata": {},
   "source": [
    "We can now compute the more interesting binary black hole case, where the singularities are at $z = \\pm 0.75$. Using the symmetry, we need:"
   ]
  },
  {
   "cell_type": "code",
   "execution_count": null,
   "metadata": {
    "collapsed": true
   },
   "outputs": [],
   "source": [
    "z_singularity = [0.75]"
   ]
  },
  {
   "cell_type": "markdown",
   "metadata": {},
   "source": [
    "We can now check what sorts of initial radius $h_0$ will be needed for the horizon:"
   ]
  },
  {
   "cell_type": "code",
   "execution_count": null,
   "metadata": {
    "collapsed": false
   },
   "outputs": [],
   "source": [
    "initial_guesses = numpy.linspace(1.2, 1.4, 100)\n",
    "dhdtheta_end = numpy.zeros_like(initial_guesses)\n",
    "z_singularity = [0.75]\n",
    "interval = [0.0, numpy.pi/2.0]\n",
    "\n",
    "for guess, h0 in enumerate(initial_guesses):\n",
    "    H = numpy.zeros((2,Ntheta))\n",
    "    H[:, 0] = [h0, 0.0]\n",
    "    for i in range(Ntheta-1):\n",
    "        H[:, i+1] = rk2_step(H[:, i], theta[i], dtheta, z_singularity)\n",
    "    dhdtheta_end[guess] = H[1, -1]\n",
    "    \n",
    "pyplot.figure()\n",
    "pyplot.plot(initial_guesses, dhdtheta_end)\n",
    "pyplot.xlabel(r\"$h_0$\")\n",
    "pyplot.ylabel(r\"$dh/d\\theta(\\pi/2)$\")\n",
    "pyplot.show()"
   ]
  },
  {
   "cell_type": "markdown",
   "metadata": {},
   "source": [
    "We see the algorithms are having problems for small radii, but that it suggests that the correct answer is roughly $h_0 \\in [1.26, 1.3]$. So we use root-finding:"
   ]
  },
  {
   "cell_type": "code",
   "execution_count": null,
   "metadata": {
    "collapsed": true
   },
   "outputs": [],
   "source": [
    "h0 = secant(residual, 1.26, 1.3, z_singularity)"
   ]
  },
  {
   "cell_type": "markdown",
   "metadata": {},
   "source": [
    "And finally, we compute and plot the horizon surface."
   ]
  },
  {
   "cell_type": "code",
   "execution_count": null,
   "metadata": {
    "collapsed": false
   },
   "outputs": [],
   "source": [
    "z_singularity = [0.75]\n",
    "H0 = [h0, 0.0]\n",
    "H = numpy.zeros((2,Ntheta))\n",
    "H[:, 0] = [h0, 0.0]\n",
    "\n",
    "for i in range(Ntheta-1):\n",
    "    H[:, i+1] = rk2_step(H[:, i], theta[i], dtheta, z_singularity)\n",
    "\n",
    "pyplot.figure()\n",
    "pyplot.polar(theta, H[0,:])\n",
    "pyplot.show()"
   ]
  },
  {
   "cell_type": "markdown",
   "metadata": {},
   "source": [
    "We see (or can imagine) the stretched apparent horizon surrounding two black holes. See eg [this longer code](https://github.com/IanHawke/findhorizon) or [this paper](http://arxiv.org/abs/gr-qc/9809004) for comparison."
   ]
  },
  {
   "cell_type": "markdown",
   "metadata": {},
   "source": [
    "# Extension exercises\n",
    "\n",
    "##### Convergence\n",
    "\n",
    "The results above used a fixed number of points to solve the initial value problem, and a fixed tolerance for the root find. Check how the solution varies as you change the accuracies of both. Which is the limiting factor? How much difference does it make to the computational cost?\n",
    "\n",
    "##### Using libraries\n",
    "\n",
    "The methods introduced above are basic and not particularly accurate or robust. Standard libraries will give both the solution of initial value problems and root-finding problems. Replace the implementation above with a version using [`odeint` from `scipy.integrate`](http://docs.scipy.org/doc/scipy-0.17.0/reference/generated/scipy.integrate.odeint.html) and [`brentq` from `scipy.optimize`](http://docs.scipy.org/doc/scipy-0.17.1/reference/generated/scipy.optimize.brentq.html). Compare the performance and ease-of-implementation of both versions."
   ]
  }
 ],
 "metadata": {
  "kernelspec": {
   "display_name": "Python 3",
   "language": "python",
   "name": "python3"
  },
  "language_info": {
   "codemirror_mode": {
    "name": "ipython",
    "version": 3
   },
   "file_extension": ".py",
   "mimetype": "text/x-python",
   "name": "python",
   "nbconvert_exporter": "python",
   "pygments_lexer": "ipython3",
   "version": "3.5.1"
  }
 },
 "nbformat": 4,
 "nbformat_minor": 0
}
