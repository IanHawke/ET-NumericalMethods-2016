{
 "cells": [
  {
   "cell_type": "markdown",
   "metadata": {
    "nbpresent": {
     "id": "fd9695cd-b294-4c5c-8cdc-622f4157d845"
    }
   },
   "source": [
    "# Hyperbolic PDEs\n",
    "\n",
    "Einstein's equations behave like *wave equations*, $\\partial_{tt} \\phi = \\nabla^2 \\phi$. \n",
    "\n",
    "Use first order form\n",
    "\n",
    "$$\n",
    "\\frac{\\partial}{\\partial t} \\begin{pmatrix} \\phi \\\\ \\phi_t \\\\ \\phi_x \\end{pmatrix} = \\begin{pmatrix} \\phi_t \\\\ 0 \\\\ 0 \\end{pmatrix} + \\frac{\\partial}{\\partial x} \\begin{pmatrix} 0 \\\\ \\phi_x \\\\ \\phi_t \\end{pmatrix}.\n",
    "$$"
   ]
  },
  {
   "cell_type": "markdown",
   "metadata": {
    "nbpresent": {
     "id": "1087679c-bd7f-438f-8411-bcf1a006521a"
    }
   },
   "source": [
    "## Method of Lines (MoL)\n",
    "\n",
    "Convert a first order system\n",
    "\n",
    "$$\n",
    "  \\partial_t {\\bf u} = {\\bf s} + \\partial_x {\\bf f}({\\bf u})\n",
    "$$\n",
    "\n",
    "into an ODE\n",
    "\n",
    "\n",
    "$$\n",
    "  \\frac{d}{d t} {\\bf U}_i = {\\bf s}({\\bf U}_i) + L({\\bf U}_i)\n",
    "$$\n",
    "\n",
    "by discretising (differencing) in space, not time. Then apply eg Runge-Kutta in time."
   ]
  },
  {
   "cell_type": "code",
   "execution_count": 1,
   "metadata": {
    "collapsed": true,
    "nbpresent": {
     "id": "957d2fca-7e57-4e67-b50a-7084332cb4e6"
    }
   },
   "outputs": [],
   "source": [
    "import numpy\n",
    "from matplotlib import pyplot\n",
    "%matplotlib inline"
   ]
  },
  {
   "cell_type": "code",
   "execution_count": 2,
   "metadata": {
    "collapsed": true,
    "nbpresent": {
     "id": "3fc6e2e0-011a-43f5-9772-18d46c9ce3ed"
    }
   },
   "outputs": [],
   "source": [
    "def RHS(U, dx):\n",
    "    \"\"\"\n",
    "    RHS term.\n",
    "    \n",
    "    Parameters\n",
    "    ----------\n",
    "    \n",
    "    U : array\n",
    "        contains [phi, phi_t, phi_x] at each point\n",
    "    dx : double\n",
    "        grid spacing\n",
    "        \n",
    "    Returns\n",
    "    -------\n",
    "    \n",
    "    dUdt : array\n",
    "        contains the required time derivatives\n",
    "    \"\"\"\n",
    "    \n",
    "    phi = U[0, :]\n",
    "    phi_t = U[1, :]\n",
    "    phi_x = U[2, :]\n",
    "    \n",
    "    dUdt = numpy.zeros_like(U)\n",
    "    \n",
    "    dUdt[0, :] = phi_t\n",
    "    dUdt[1, 1:-1] = 1.0 / (2.0*dx)*(phi_x[2:] - phi_x[:-2])\n",
    "    dUdt[2, 1:-1] = 1.0 / (2.0*dx)*(phi_t[2:] - phi_t[:-2])\n",
    "    \n",
    "    return dUdt"
   ]
  },
  {
   "cell_type": "markdown",
   "metadata": {
    "nbpresent": {
     "id": "302de421-1f86-4361-9579-7ad67794afa3"
    }
   },
   "source": [
    "## Key code steps\n",
    "\n",
    "We'll need\n",
    "\n",
    "* Grid\n",
    "* Initial and boundary conditions\n",
    "* Right hand side (RHS) function\n",
    "* Time stepping."
   ]
  },
  {
   "cell_type": "code",
   "execution_count": 3,
   "metadata": {
    "collapsed": false,
    "nbpresent": {
     "id": "9e845a1c-70d4-4541-8ba5-7bdf8485e54d"
    }
   },
   "outputs": [
    {
     "data": {
      "image/png": "[encoded data removed]",
      "text/plain": [
       "<matplotlib.figure.Figure at 0x10f0c04e0>"
      ]
     },
     "metadata": {},
     "output_type": "display_data"
    }
   ],
   "source": [
    "def grid(Npoints):\n",
    "    \n",
    "    dx = 2.0 / Npoints\n",
    "    return dx, numpy.linspace(-1.0-dx/2.0, \n",
    "                               1.0+dx/2.0, Npoints+2)\n",
    "\n",
    "pyplot.figure()\n",
    "dx, x = grid(4)\n",
    "pyplot.plot(x, numpy.ones_like(x), 'kx', ms=12, mew=2)\n",
    "pyplot.show()"
   ]
  },
  {
   "cell_type": "code",
   "execution_count": 4,
   "metadata": {
    "collapsed": false,
    "nbpresent": {
     "id": "0a1c1814-a44e-4448-be74-3d675ecd35fa"
    }
   },
   "outputs": [
    {
     "data": {
      "image/png": "[encoded data removed]",
      "text/plain": [
       "<matplotlib.figure.Figure at 0x111533e80>"
      ]
     },
     "metadata": {},
     "output_type": "display_data"
    }
   ],
   "source": [
    "def initial_data(x):\n",
    "    \n",
    "    U = numpy.zeros((3, len(x)))\n",
    "    U[0, :] = numpy.exp(-20.0 * x**2)\n",
    "    U[2, :] = -40.0*x*numpy.exp(-20.0 * x**2)\n",
    "    \n",
    "    return U\n",
    "\n",
    "pyplot.figure()\n",
    "dx, x = grid(100)\n",
    "U = initial_data(x)\n",
    "pyplot.plot(x, U[0, :], 'b-')\n",
    "pyplot.xlim(-1, 1)\n",
    "pyplot.show()"
   ]
  },
  {
   "cell_type": "code",
   "execution_count": 5,
   "metadata": {
    "collapsed": true,
    "nbpresent": {
     "id": "0ba5ad53-adcf-4611-bafe-5026198991c3"
    }
   },
   "outputs": [],
   "source": [
    "def apply_boundaries(dUdt):\n",
    "    \"\"\"\n",
    "    Periodic boundaries applied to the RHS directly.\n",
    "    \"\"\"\n",
    "    \n",
    "    dUdt[:, 0] = dUdt[:, -2]\n",
    "    dUdt[:, -1] = dUdt[:, 1]\n",
    "    return dUdt\n",
    "\n",
    "def RK2_step(U, RHS, apply_boundaries, dt, dx):\n",
    "    \n",
    "    rhs = apply_boundaries(RHS(U, dx))\n",
    "    Up = U + dt * rhs\n",
    "    rhs_p = apply_boundaries(RHS(Up, dx))\n",
    "    Unew = 0.5 * (U + Up + dt * rhs_p)\n",
    "    return Unew"
   ]
  },
  {
   "cell_type": "code",
   "execution_count": 6,
   "metadata": {
    "collapsed": false,
    "nbpresent": {
     "id": "a2fc2cb3-e71f-4d95-9732-d6fb55353da0"
    }
   },
   "outputs": [
    {
     "data": {
      "image/png": "[encoded data removed]",
      "text/plain": [
       "<matplotlib.figure.Figure at 0x1115ae320>"
      ]
     },
     "metadata": {},
     "output_type": "display_data"
    }
   ],
   "source": [
    "Npoints = 50\n",
    "dx, x = grid(Npoints)\n",
    "dt = dx / 4\n",
    "U0 = initial_data(x)\n",
    "U = initial_data(x)\n",
    "Nsteps = int(1.0 / dt)\n",
    "for n in range(Nsteps):\n",
    "    U = RK2_step(U, RHS, apply_boundaries, dt, dx)\n",
    "\n",
    "pyplot.figure()\n",
    "pyplot.plot(x, U0[0, :], 'b--', label=\"Initial data\")\n",
    "pyplot.plot(x, U[0, :], 'k-', label=r\"$t=1$\")\n",
    "pyplot.xlabel(r\"$x$\")\n",
    "pyplot.ylabel(r\"$\\phi$\")\n",
    "pyplot.xlim(-1, 1)\n",
    "pyplot.legend()\n",
    "pyplot.show()"
   ]
  },
  {
   "cell_type": "code",
   "execution_count": 7,
   "metadata": {
    "collapsed": false,
    "nbpresent": {
     "id": "436d26fc-621e-40d5-85ec-e4b63d65c077"
    }
   },
   "outputs": [
    {
     "data": {
      "image/png": "[encoded data removed]",
      "text/plain": [
       "<matplotlib.figure.Figure at 0x11204e1d0>"
      ]
     },
     "metadata": {},
     "output_type": "display_data"
    }
   ],
   "source": [
    "U = initial_data(x)\n",
    "Nsteps = int(2.0 / dt)\n",
    "for n in range(Nsteps):\n",
    "    U = RK2_step(U, RHS, apply_boundaries, dt, dx)\n",
    "    \n",
    "pyplot.figure()\n",
    "pyplot.plot(x, U0[0, :], 'b--', label=\"Initial data\")\n",
    "pyplot.plot(x, U[0, :], 'k-', label=r\"$t=2$\")\n",
    "pyplot.xlabel(r\"$x$\")\n",
    "pyplot.ylabel(r\"$\\phi$\")\n",
    "pyplot.xlim(-1, 1)\n",
    "pyplot.legend()\n",
    "pyplot.show()"
   ]
  },
  {
   "cell_type": "markdown",
   "metadata": {
    "nbpresent": {
     "id": "c3f0a468-c548-4bb4-966c-1f771f038e3e"
    }
   },
   "source": [
    "## Convergence\n",
    "\n",
    "To check convergence, look at the error norm\n",
    "\n",
    "$$\n",
    "  \\| {\\cal E} \\|_p = \\left( \\tfrac{1}{N} \\sum_{i=1}^N \\left( \\phi_i - \\phi^{\\text{exact}}_i \\right)^p \\right)^{1/p}.\n",
    "$$\n",
    "\n",
    "We know exact solution at $t=2$ is the initial data."
   ]
  },
  {
   "cell_type": "code",
   "execution_count": 8,
   "metadata": {
    "collapsed": true
   },
   "outputs": [],
   "source": [
    "def error_norms(U, U_initial):\n",
    "    \"\"\"\n",
    "    Error norms (1, 2, infinity)\n",
    "    \"\"\"\n",
    "    \n",
    "    N = len(U)\n",
    "    error_1 = numpy.sum(numpy.abs(U - U_initial))/N\n",
    "    error_2 = numpy.sqrt(numpy.sum((U - U_initial)**2)/N)\n",
    "    error_inf = numpy.max(numpy.abs(U - U_initial))\n",
    "    \n",
    "    return error_1, error_2, error_inf"
   ]
  },
  {
   "cell_type": "code",
   "execution_count": 9,
   "metadata": {
    "collapsed": false,
    "nbpresent": {
     "id": "eb279978-23c4-4161-ab2e-b52cb695aad9"
    }
   },
   "outputs": [
    {
     "data": {
      "image/png": "[encoded data removed]",
      "text/plain": [
       "<matplotlib.figure.Figure at 0x1120596a0>"
      ]
     },
     "metadata": {},
     "output_type": "display_data"
    }
   ],
   "source": [
    "Npoints_all = 50 * 2**(numpy.arange(0, 6))\n",
    "dxs = numpy.zeros((len(Npoints_all,)))\n",
    "wave_errors = numpy.zeros((3, len(Npoints_all)))\n",
    "\n",
    "for i, Npoints in enumerate(Npoints_all):\n",
    "    dx, x = grid(Npoints)\n",
    "    dt = dx / 4\n",
    "    U0 = initial_data(x)\n",
    "    U = initial_data(x)\n",
    "    Nsteps = int(2.0 / dt)\n",
    "    for n in range(Nsteps):\n",
    "        U = RK2_step(U, RHS, apply_boundaries, dt, dx)\n",
    "    dxs[i] = dx\n",
    "    wave_errors[:, i] = error_norms(U[0, :], U0[0, :])\n",
    "\n",
    "pyplot.figure()\n",
    "pyplot.loglog(dxs, wave_errors[0, :], 'bx', label=r\"${\\cal E}_1$\")\n",
    "pyplot.loglog(dxs, wave_errors[1, :], 'go', label=r\"${\\cal E}_2$\")\n",
    "pyplot.loglog(dxs, wave_errors[2, :], 'r+', label=r\"${\\cal E}_{\\infty}$\")\n",
    "pyplot.loglog(dxs, wave_errors[1, 0]*(dxs/dxs[0])**4, 'k-', label=r\"$p=4$\")\n",
    "pyplot.xlabel(r\"$\\Delta x$\")\n",
    "pyplot.ylabel(\"Error norm\")\n",
    "pyplot.legend(loc=\"lower right\")\n",
    "pyplot.show()"
   ]
  },
  {
   "cell_type": "code",
   "execution_count": 10,
   "metadata": {
    "collapsed": false,
    "nbpresent": {
     "id": "e9c13e46-4eb0-4b78-8607-7b3cdc3197ef"
    }
   },
   "outputs": [
    {
     "data": {
      "image/png": "[encoded data removed]",
      "text/plain": [
       "<matplotlib.figure.Figure at 0x111bbd9b0>"
      ]
     },
     "metadata": {},
     "output_type": "display_data"
    }
   ],
   "source": [
    "def initial_data_asymmetric(x):\n",
    "    \n",
    "    U = numpy.zeros((3, len(x)))\n",
    "    U[0, :] = numpy.sin(numpy.pi*x)*(1-x)**2*(1+x)**3\n",
    "    U[2, :] = numpy.pi*numpy.cos(numpy.pi*x)*(1-x)**2*(1+x)**3 + \\\n",
    "              numpy.sin(numpy.pi*x)*(2.0*(1-x)*(1+x)**3 + \\\n",
    "                                     3.0*(1-x)**2*(1+x)**2)\n",
    "    \n",
    "    return U\n",
    "\n",
    "pyplot.figure()\n",
    "dx, x = grid(100)\n",
    "U = initial_data_asymmetric(x)\n",
    "pyplot.plot(x, U[0, :], 'b-')\n",
    "pyplot.xlim(-1, 1)\n",
    "pyplot.show()"
   ]
  },
  {
   "cell_type": "code",
   "execution_count": 11,
   "metadata": {
    "collapsed": false,
    "nbpresent": {
     "id": "d365fbb1-7c27-489a-9544-c9915b971ebe"
    }
   },
   "outputs": [
    {
     "data": {
      "image/png": "[encoded data removed]",
      "text/plain": [
       "<matplotlib.figure.Figure at 0x1115919b0>"
      ]
     },
     "metadata": {},
     "output_type": "display_data"
    }
   ],
   "source": [
    "Npoints_all = 50 * 2**(numpy.arange(0, 6))\n",
    "dxs = numpy.zeros((len(Npoints_all,)))\n",
    "wave_errors = numpy.zeros((3, len(Npoints_all)))\n",
    "\n",
    "for i, Npoints in enumerate(Npoints_all):\n",
    "    dx, x = grid(Npoints)\n",
    "    dt = dx / 4\n",
    "    U0 = initial_data_asymmetric(x)\n",
    "    U = initial_data_asymmetric(x)\n",
    "    Nsteps = int(2.0 / dt)\n",
    "    for n in range(Nsteps):\n",
    "        U = RK2_step(U, RHS, apply_boundaries, dt, dx)\n",
    "    dxs[i] = dx\n",
    "    wave_errors[:, i] = error_norms(U[0, :], U0[0, :])\n",
    "    \n",
    "pyplot.figure()\n",
    "pyplot.loglog(dxs, wave_errors[0, :], 'bx', label=r\"${\\cal E}_1$\")\n",
    "pyplot.loglog(dxs, wave_errors[1, :], 'go', label=r\"${\\cal E}_2$\")\n",
    "pyplot.loglog(dxs, wave_errors[2, :], 'r+', label=r\"${\\cal E}_{\\infty}$\")\n",
    "pyplot.loglog(dxs, wave_errors[1, 0]*(dxs/dxs[0])**2, 'k-', label=r\"$p=2$\")\n",
    "pyplot.xlabel(r\"$\\Delta x$\")\n",
    "pyplot.ylabel(\"Error norm\")\n",
    "pyplot.legend(loc=\"lower right\")\n",
    "pyplot.show()"
   ]
  },
  {
   "cell_type": "markdown",
   "metadata": {
    "nbpresent": {
     "id": "08739ffd-5c5e-4e5f-a5bf-a1b4c7a7d4bf"
    }
   },
   "source": [
    "## Courant limits\n",
    "\n",
    "We restricted the timestep to $\\Delta t = \\sigma \\Delta x$ with $\\sigma$, the *Courant number*, being $1/4$. \n",
    "\n",
    "Number of timesteps taken is inversely related to the Courant number: want to make it as large as possible. \n",
    "\n",
    "Let's try the evolution with Courant number $\\sigma=1$."
   ]
  },
  {
   "cell_type": "code",
   "execution_count": 12,
   "metadata": {
    "collapsed": false,
    "nbpresent": {
     "id": "b253bb12-4fd7-4458-b59f-826770532672"
    }
   },
   "outputs": [
    {
     "data": {
      "image/png": "[encoded data removed]",
      "text/plain": [
       "<matplotlib.figure.Figure at 0x112336b00>"
      ]
     },
     "metadata": {},
     "output_type": "display_data"
    }
   ],
   "source": [
    "Npoints = 50\n",
    "dx, x = grid(Npoints)\n",
    "dt = dx # This is the crucial line\n",
    "U0 = initial_data(x)\n",
    "U = initial_data(x)\n",
    "Nsteps = int(2.0/dt)\n",
    "for n in range(Nsteps):\n",
    "    U = RK2_step(U, RHS, apply_boundaries, dt, dx)\n",
    "    \n",
    "pyplot.figure()\n",
    "pyplot.plot(x, U0[0, :], 'b--', label=\"Initial data\")\n",
    "pyplot.plot(x, U[0, :], 'k-', label=r\"$t=2$\")\n",
    "pyplot.xlabel(r\"$x$\")\n",
    "pyplot.ylabel(r\"$\\phi$\")\n",
    "pyplot.xlim(-1, 1)\n",
    "pyplot.legend()\n",
    "pyplot.show()"
   ]
  },
  {
   "cell_type": "markdown",
   "metadata": {
    "nbpresent": {
     "id": "883732f2-fb14-484d-b604-bd381cb8ddbd"
    }
   },
   "source": [
    "### Courant limit\n",
    "\n",
    "Hyperbolic PDEs have a Courant *limit*: $\\Delta t$ too large is unstable. This depends on physics and numerics. Typically a maximum limit is\n",
    "\n",
    "$$\n",
    "  \\sigma < \\frac{1}{\\sqrt{D} \\lambda_{\\text{max}}}\n",
    "$$\n",
    "\n",
    "($D$ is number of spatial dimensions, $\\lambda_{\\text{max}}$ the maximum characteristic speed)."
   ]
  },
  {
   "cell_type": "markdown",
   "metadata": {
    "nbpresent": {
     "id": "9337126a-ff5c-4cb8-88e3-b188bc654e21"
    }
   },
   "source": [
    "# Exercises\n",
    "\n",
    "1. Try the second order in space form (relevant for BSSN).\n",
    "2. Try fourth order differencing in space. What convergence rate do you get? Why?\n",
    "3. Try third order differencing in time. When does this help?"
   ]
  }
 ],
 "metadata": {
  "kernelspec": {
   "display_name": "Python 3",
   "language": "python",
   "name": "python3"
  },
  "language_info": {
   "codemirror_mode": {
    "name": "ipython",
    "version": 3
   },
   "file_extension": ".py",
   "mimetype": "text/x-python",
   "name": "python",
   "nbconvert_exporter": "python",
   "pygments_lexer": "ipython3",
   "version": "3.5.1"
  },
  "nbpresent": {
   "slides": {
    "0aaeb388-0c4e-4910-a5bc-fa68be2c6e9d": {
     "id": "0aaeb388-0c4e-4910-a5bc-fa68be2c6e9d",
     "prev": null,
     "regions": {
      "41147056-5cc1-4ccc-8635-e6e6f83117e3": {
       "attrs": {
        "height": 1,
        "width": 1,
        "x": 0,
        "y": 0
       },
       "id": "41147056-5cc1-4ccc-8635-e6e6f83117e3"
      },
      "d3b0c731-0161-402f-88c6-3a621c7922cd": {
       "attrs": {
        "height": 0.8000000000000002,
        "width": 0.8,
        "x": 0.1,
        "y": 0.10000000000000002
       },
       "content": {
        "cell": "fd9695cd-b294-4c5c-8cdc-622f4157d845",
        "part": "source"
       },
       "id": "d3b0c731-0161-402f-88c6-3a621c7922cd"
      }
     }
    },
    "2d0dc74e-8b54-492c-877c-50dc9ccbb85e": {
     "id": "2d0dc74e-8b54-492c-877c-50dc9ccbb85e",
     "prev": "388e804e-58c2-4811-8657-da04f5f22748",
     "regions": {
      "0576284f-77cc-45cc-bc30-d423b31a3b0d": {
       "attrs": {
        "height": 0.8000000000000002,
        "width": 0.34621298405466966,
        "x": 0.6037870159453302,
        "y": 0.10000000000000002
       },
       "content": {
        "cell": "9e845a1c-70d4-4541-8ba5-7bdf8485e54d",
        "part": "outputs"
       },
       "id": "0576284f-77cc-45cc-bc30-d423b31a3b0d"
      },
      "77d5eb2b-acee-45bd-8232-64d9d360847e": {
       "attrs": {
        "height": 0.8000000000000002,
        "width": 0.55250569476082,
        "x": 0.05,
        "y": 0.10000000000000002
       },
       "content": {
        "cell": "9e845a1c-70d4-4541-8ba5-7bdf8485e54d",
        "part": "source"
       },
       "id": "77d5eb2b-acee-45bd-8232-64d9d360847e"
      }
     }
    },
    "3485d56f-4d75-48f7-a454-ddb563ce632f": {
     "id": "3485d56f-4d75-48f7-a454-ddb563ce632f",
     "prev": "cff0fc71-377f-45b4-8cd4-940f125fecb3",
     "regions": {
      "5596ff6b-4cdf-4112-adee-ceb10b874409": {
       "attrs": {
        "height": 0.8,
        "width": 0.8,
        "x": 0.1,
        "y": 0.1
       },
       "content": {
        "cell": "883732f2-fb14-484d-b604-bd381cb8ddbd",
        "part": "source"
       },
       "id": "5596ff6b-4cdf-4112-adee-ceb10b874409"
      },
      "a3869b0b-7578-4863-b5bf-6e8bec4939e8": {
       "attrs": {
        "height": 1,
        "width": 1,
        "x": 0,
        "y": 0
       },
       "id": "a3869b0b-7578-4863-b5bf-6e8bec4939e8"
      }
     }
    },
    "351edfd6-01cd-4766-ace6-9454eabad698": {
     "id": "351edfd6-01cd-4766-ace6-9454eabad698",
     "prev": "36fd3844-931b-4130-81a0-249864fce2a8",
     "regions": {
      "3f97a26b-18cb-4310-8a84-1f6210ccc7fb": {
       "attrs": {
        "height": 0.8000000000000002,
        "width": 0.3449316628701594,
        "x": 0.6050683371298405,
        "y": 0.10000000000000002
       },
       "content": {
        "cell": "436d26fc-621e-40d5-85ec-e4b63d65c077",
        "part": "outputs"
       },
       "id": "3f97a26b-18cb-4310-8a84-1f6210ccc7fb"
      },
      "659ed3f0-6749-440e-a783-b9cbec20ddbd": {
       "attrs": {
        "height": 0.8000000000000002,
        "width": 0.5512243735763098,
        "x": 0.05,
        "y": 0.10000000000000002
       },
       "content": {
        "cell": "436d26fc-621e-40d5-85ec-e4b63d65c077",
        "part": "source"
       },
       "id": "659ed3f0-6749-440e-a783-b9cbec20ddbd"
      }
     }
    },
    "36fd3844-931b-4130-81a0-249864fce2a8": {
     "id": "36fd3844-931b-4130-81a0-249864fce2a8",
     "prev": "ca28617a-4981-4461-bd66-a18285f6e7d2",
     "regions": {
      "5d43cd75-4158-4d69-8d49-7f036284ca3f": {
       "attrs": {
        "height": 0.8000000000000002,
        "width": 0.5460990888382687,
        "x": 0.05,
        "y": 0.10000000000000002
       },
       "content": {
        "cell": "a2fc2cb3-e71f-4d95-9732-d6fb55353da0",
        "part": "source"
       },
       "id": "5d43cd75-4158-4d69-8d49-7f036284ca3f"
      },
      "accad0ee-7753-433a-8cfb-ebbacafb8824": {
       "attrs": {
        "height": 0.8000000000000002,
        "width": 0.3513382687927107,
        "x": 0.5986617312072893,
        "y": 0.10000000000000002
       },
       "content": {
        "cell": "a2fc2cb3-e71f-4d95-9732-d6fb55353da0",
        "part": "outputs"
       },
       "id": "accad0ee-7753-433a-8cfb-ebbacafb8824"
      }
     }
    },
    "388e804e-58c2-4811-8657-da04f5f22748": {
     "id": "388e804e-58c2-4811-8657-da04f5f22748",
     "prev": "4082bda0-9056-48c7-a978-3ac09a1ce5dc",
     "regions": {
      "4ea05892-aea0-4888-8fd5-4a86e18289d1": {
       "attrs": {
        "height": 1,
        "width": 1,
        "x": 0,
        "y": 0
       },
       "id": "4ea05892-aea0-4888-8fd5-4a86e18289d1"
      },
      "d10d9a1b-db36-4e52-8ec5-2398bb3a05b1": {
       "attrs": {
        "height": 0.8,
        "width": 0.8,
        "x": 0.1,
        "y": 0.1
       },
       "content": {
        "cell": "302de421-1f86-4361-9579-7ad67794afa3",
        "part": "source"
       },
       "id": "d10d9a1b-db36-4e52-8ec5-2398bb3a05b1"
      }
     }
    },
    "4082bda0-9056-48c7-a978-3ac09a1ce5dc": {
     "id": "4082bda0-9056-48c7-a978-3ac09a1ce5dc",
     "prev": "0aaeb388-0c4e-4910-a5bc-fa68be2c6e9d",
     "regions": {
      "9926178f-67c9-4948-a08b-0a5028ef0b70": {
       "attrs": {
        "height": 0.8,
        "width": 0.8,
        "x": 0.1,
        "y": 0.1
       },
       "content": {
        "cell": "1087679c-bd7f-438f-8411-bcf1a006521a",
        "part": "source"
       },
       "id": "9926178f-67c9-4948-a08b-0a5028ef0b70"
      },
      "d6c2f422-51bd-419a-b26c-1655bcb73c9e": {
       "attrs": {
        "height": 1,
        "width": 1,
        "x": 0,
        "y": 0
       },
       "id": "d6c2f422-51bd-419a-b26c-1655bcb73c9e"
      }
     }
    },
    "41d44d71-e65f-4bd1-a854-7de43a09d051": {
     "id": "41d44d71-e65f-4bd1-a854-7de43a09d051",
     "prev": "a67d8e7f-fc99-46d5-ad23-f5e0cd0637b5",
     "regions": {
      "181c4a1e-6b71-4dc5-b20a-c57f0a4a10f9": {
       "attrs": {
        "height": 1,
        "width": 1,
        "x": 0,
        "y": 0
       },
       "id": "181c4a1e-6b71-4dc5-b20a-c57f0a4a10f9"
      },
      "84dffb32-5142-4aaf-abb3-b646bb50b5dd": {
       "attrs": {
        "height": 0.8,
        "width": 0.8,
        "x": 0.1,
        "y": 0.1
       },
       "content": {
        "cell": "08739ffd-5c5e-4e5f-a5bf-a1b4c7a7d4bf",
        "part": "source"
       },
       "id": "84dffb32-5142-4aaf-abb3-b646bb50b5dd"
      }
     }
    },
    "583a9679-edc0-4b7c-a2c4-3b343ea865a7": {
     "id": "583a9679-edc0-4b7c-a2c4-3b343ea865a7",
     "prev": "351edfd6-01cd-4766-ace6-9454eabad698",
     "regions": {
      "161f62a0-8e05-49e3-aa8d-9d87f84a666b": {
       "attrs": {
        "height": 1,
        "width": 1,
        "x": 0,
        "y": 0
       },
       "id": "161f62a0-8e05-49e3-aa8d-9d87f84a666b"
      },
      "5bc465e3-54e9-4fba-9798-7abbe2ebf505": {
       "attrs": {
        "height": 0.8,
        "width": 0.8,
        "x": 0.1,
        "y": 0.1
       },
       "content": {
        "cell": "c3f0a468-c548-4bb4-966c-1f771f038e3e",
        "part": "source"
       },
       "id": "5bc465e3-54e9-4fba-9798-7abbe2ebf505"
      }
     }
    },
    "688a05b4-6fb9-42bb-b85c-078f28e8324c": {
     "id": "688a05b4-6fb9-42bb-b85c-078f28e8324c",
     "prev": "3485d56f-4d75-48f7-a454-ddb563ce632f",
     "regions": {
      "713c9bd8-e1ea-4c23-8359-0c07500ee08e": {
       "attrs": {
        "height": 0.8,
        "width": 0.8,
        "x": 0.1,
        "y": 0.1
       },
       "content": {
        "cell": "9337126a-ff5c-4cb8-88e3-b188bc654e21",
        "part": "source"
       },
       "id": "713c9bd8-e1ea-4c23-8359-0c07500ee08e"
      },
      "f9a2587a-8c07-47de-9b37-0e0fbf134487": {
       "attrs": {
        "height": 1,
        "width": 1,
        "x": 0,
        "y": 0
       },
       "id": "f9a2587a-8c07-47de-9b37-0e0fbf134487"
      }
     }
    },
    "a67d8e7f-fc99-46d5-ad23-f5e0cd0637b5": {
     "id": "a67d8e7f-fc99-46d5-ad23-f5e0cd0637b5",
     "prev": "be80b70c-4d25-4771-8017-1e5dab6e5496",
     "regions": {
      "528e5f4c-da7a-48e2-8cbd-2ab1f81f6047": {
       "attrs": {
        "height": 0.8000000000000002,
        "width": 0.5512243735763098,
        "x": 0.05,
        "y": 0.10000000000000002
       },
       "content": {
        "cell": "d365fbb1-7c27-489a-9544-c9915b971ebe",
        "part": "source"
       },
       "id": "528e5f4c-da7a-48e2-8cbd-2ab1f81f6047"
      },
      "94d33444-8059-4b1b-96a8-5e2fa8b5784d": {
       "attrs": {
        "height": 0.8000000000000002,
        "width": 0.3487756264236902,
        "x": 0.6012243735763098,
        "y": 0.10000000000000002
       },
       "content": {
        "cell": "d365fbb1-7c27-489a-9544-c9915b971ebe",
        "part": "outputs"
       },
       "id": "94d33444-8059-4b1b-96a8-5e2fa8b5784d"
      }
     }
    },
    "b00a46a4-1fe2-4d1e-b2dd-654c09e70387": {
     "id": "b00a46a4-1fe2-4d1e-b2dd-654c09e70387",
     "prev": "2d0dc74e-8b54-492c-877c-50dc9ccbb85e",
     "regions": {
      "329a1150-8d49-4234-bffa-dba791f3383e": {
       "attrs": {
        "height": 0.8000000000000002,
        "width": 0.5499430523917995,
        "x": 0.05,
        "y": 0.10000000000000002
       },
       "content": {
        "cell": "0a1c1814-a44e-4448-be74-3d675ecd35fa",
        "part": "source"
       },
       "id": "329a1150-8d49-4234-bffa-dba791f3383e"
      },
      "e6af44e9-5c84-416c-9e19-b5b2d41f7f8d": {
       "attrs": {
        "height": 0.8000000000000002,
        "width": 0.3487756264236902,
        "x": 0.6012243735763098,
        "y": 0.10000000000000002
       },
       "content": {
        "cell": "0a1c1814-a44e-4448-be74-3d675ecd35fa",
        "part": "outputs"
       },
       "id": "e6af44e9-5c84-416c-9e19-b5b2d41f7f8d"
      }
     }
    },
    "be80b70c-4d25-4771-8017-1e5dab6e5496": {
     "id": "be80b70c-4d25-4771-8017-1e5dab6e5496",
     "prev": "e418ff5e-1b67-4ce1-afeb-38c33eb327ea",
     "regions": {
      "6217845f-0c17-44fd-a3db-fd055ef589bc": {
       "attrs": {
        "height": 0.8000000000000002,
        "width": 0.5435364464692483,
        "x": 0.05,
        "y": 0.10000000000000002
       },
       "content": {
        "cell": "e9c13e46-4eb0-4b78-8607-7b3cdc3197ef",
        "part": "source"
       },
       "id": "6217845f-0c17-44fd-a3db-fd055ef589bc"
      },
      "ee1f9e83-8b73-4c90-963e-51a349d0f40e": {
       "attrs": {
        "height": 0.8000000000000002,
        "width": 0.3513382687927107,
        "x": 0.5986617312072893,
        "y": 0.10000000000000002
       },
       "content": {
        "cell": "e9c13e46-4eb0-4b78-8607-7b3cdc3197ef",
        "part": "outputs"
       },
       "id": "ee1f9e83-8b73-4c90-963e-51a349d0f40e"
      }
     }
    },
    "ca28617a-4981-4461-bd66-a18285f6e7d2": {
     "id": "ca28617a-4981-4461-bd66-a18285f6e7d2",
     "prev": "b00a46a4-1fe2-4d1e-b2dd-654c09e70387",
     "regions": {
      "58efe738-96aa-41bb-91d4-a663fc5ba093": {
       "attrs": {
        "height": 1,
        "width": 1,
        "x": 0,
        "y": 0
       },
       "id": "58efe738-96aa-41bb-91d4-a663fc5ba093"
      },
      "9fe1594f-b02a-46c9-9198-6e52606cd947": {
       "attrs": {
        "height": 0.8,
        "width": 0.8,
        "x": 0.1,
        "y": 0.1
       },
       "content": {
        "cell": "0ba5ad53-adcf-4611-bafe-5026198991c3",
        "part": "source"
       },
       "id": "9fe1594f-b02a-46c9-9198-6e52606cd947"
      }
     }
    },
    "cff0fc71-377f-45b4-8cd4-940f125fecb3": {
     "id": "cff0fc71-377f-45b4-8cd4-940f125fecb3",
     "prev": "41d44d71-e65f-4bd1-a854-7de43a09d051",
     "regions": {
      "135c9d86-7dcb-4a95-be44-eebbdd21faae": {
       "attrs": {
        "height": 0.8000000000000002,
        "width": 0.5499430523917995,
        "x": 0.05,
        "y": 0.10000000000000002
       },
       "content": {
        "cell": "b253bb12-4fd7-4458-b59f-826770532672",
        "part": "source"
       },
       "id": "135c9d86-7dcb-4a95-be44-eebbdd21faae"
      },
      "c874dc8c-fa39-4e8a-bbf4-1a20dfe1dfab": {
       "attrs": {
        "height": 0.8000000000000002,
        "width": 0.34749430523917996,
        "x": 0.60250569476082,
        "y": 0.10000000000000002
       },
       "content": {
        "cell": "b253bb12-4fd7-4458-b59f-826770532672",
        "part": "outputs"
       },
       "id": "c874dc8c-fa39-4e8a-bbf4-1a20dfe1dfab"
      }
     }
    },
    "e418ff5e-1b67-4ce1-afeb-38c33eb327ea": {
     "id": "e418ff5e-1b67-4ce1-afeb-38c33eb327ea",
     "prev": "583a9679-edc0-4b7c-a2c4-3b343ea865a7",
     "regions": {
      "1168cee5-e58a-4dd2-9a59-db7a172d0e5d": {
       "attrs": {
        "height": 0.8000000000000002,
        "width": 0.5499430523917995,
        "x": 0.05,
        "y": 0.10000000000000002
       },
       "content": {
        "cell": "eb279978-23c4-4161-ab2e-b52cb695aad9",
        "part": "source"
       },
       "id": "1168cee5-e58a-4dd2-9a59-db7a172d0e5d"
      },
      "654725cf-fb12-48a0-8276-fe981dd9f72f": {
       "attrs": {
        "height": 0.8000000000000002,
        "width": 0.35005694760820044,
        "x": 0.5999430523917996,
        "y": 0.10000000000000002
       },
       "content": {
        "cell": "eb279978-23c4-4161-ab2e-b52cb695aad9",
        "part": "outputs"
       },
       "id": "654725cf-fb12-48a0-8276-fe981dd9f72f"
      }
     }
    }
   },
   "themes": {
    "default": "39285f36-51b5-4d0a-9e73-2ebd5a8be1af",
    "theme": {
     "6ab79230-cf01-495b-8464-e70da3625201": {
      "id": "6ab79230-cf01-495b-8464-e70da3625201",
      "palette": {
       "19cc588f-0593-49c9-9f4b-e4d7cc113b1c": {
        "id": "19cc588f-0593-49c9-9f4b-e4d7cc113b1c",
        "rgb": [
         252,
         252,
         252
        ]
       },
       "31af15d2-7e15-44c5-ab5e-e04b16a89eff": {
        "id": "31af15d2-7e15-44c5-ab5e-e04b16a89eff",
        "rgb": [
         68,
         68,
         68
        ]
       },
       "50f92c45-a630-455b-aec3-788680ec7410": {
        "id": "50f92c45-a630-455b-aec3-788680ec7410",
        "rgb": [
         155,
         177,
         192
        ]
       },
       "c5cc3653-2ee1-402a-aba2-7caae1da4f6c": {
        "id": "c5cc3653-2ee1-402a-aba2-7caae1da4f6c",
        "rgb": [
         43,
         126,
         184
        ]
       },
       "efa7f048-9acb-414c-8b04-a26811511a21": {
        "id": "efa7f048-9acb-414c-8b04-a26811511a21",
        "rgb": [
         25.118061674008803,
         73.60176211453744,
         107.4819383259912
        ]
       }
      },
      "rules": {
       "blockquote": {
        "color": "50f92c45-a630-455b-aec3-788680ec7410"
       },
       "code": {
        "font-family": "Anonymous Pro"
       },
       "h1": {
        "color": "c5cc3653-2ee1-402a-aba2-7caae1da4f6c",
        "font-family": "Gudea",
        "font-size": 8
       },
       "h2": {
        "color": "c5cc3653-2ee1-402a-aba2-7caae1da4f6c",
        "font-family": "Gudea",
        "font-size": 6
       },
       "h3": {
        "color": "50f92c45-a630-455b-aec3-788680ec7410",
        "font-family": "Gudea",
        "font-size": 5.5
       },
       "h4": {
        "color": "c5cc3653-2ee1-402a-aba2-7caae1da4f6c",
        "font-family": "Gudea",
        "font-size": 5
       },
       "h5": {
        "font-family": "Gudea"
       },
       "h6": {
        "font-family": "Gudea"
       },
       "h7": {
        "font-family": "Gudea"
       },
       "li": {
        "font-family": "Gudea"
       },
       "pre": {
        "font-family": "Anonymous Pro",
        "font-size": 2.5
       }
      },
      "text-base": {
       "font-family": "Gudea",
       "font-size": 3
      }
     }
    }
   }
  }
 },
 "nbformat": 4,
 "nbformat_minor": 0
}
