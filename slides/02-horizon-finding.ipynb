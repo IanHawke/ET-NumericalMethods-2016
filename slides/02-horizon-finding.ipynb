{
 "cells": [
  {
   "cell_type": "markdown",
   "metadata": {
    "nbpresent": {
     "id": "fd9695cd-b294-4c5c-8cdc-622f4157d845"
    }
   },
   "source": [
    "# Horizon finding\n",
    "\n",
    "Finding apparent horizons can be used for\n",
    "\n",
    "* physical information (analysis);\n",
    "* adapting the grid (AMR);\n",
    "* gauge conditions (moving punctures);\n",
    "\n",
    "and so on.\n",
    "\n",
    "This is a *boundary value problem*."
   ]
  },
  {
   "cell_type": "code",
   "execution_count": 1,
   "metadata": {
    "collapsed": true,
    "nbpresent": {
     "id": "957d2fca-7e57-4e67-b50a-7084332cb4e6"
    }
   },
   "outputs": [],
   "source": [
    "import numpy\n",
    "from matplotlib import pyplot\n",
    "%matplotlib inline"
   ]
  },
  {
   "cell_type": "code",
   "execution_count": 2,
   "metadata": {
    "collapsed": true,
    "nbpresent": {
     "id": "3fc6e2e0-011a-43f5-9772-18d46c9ce3ed"
    }
   },
   "outputs": [],
   "source": [
    "def horizon_RHS(H, theta, z_singularities):\n",
    "    \"\"\"\n",
    "    The RHS function for the apparent horizon problem.\n",
    "    \n",
    "    Parameters\n",
    "    ----------\n",
    "    \n",
    "    H : array\n",
    "        vector [h, dh/dtheta]\n",
    "    theta : double\n",
    "        angle\n",
    "    z_singularities : array\n",
    "        Location of the singularities on the z axis; non-negative\n",
    "    \n",
    "    Returns\n",
    "    -------\n",
    "    \n",
    "    dHdtheta : array\n",
    "        RHS\n",
    "    \"\"\"\n",
    "    \n",
    "    assert(numpy.all(numpy.array(z_singularities) >= 0.0)), \"Location of singularities cannot be negative\"\n",
    "    \n",
    "    h = H[0]\n",
    "    dh = H[1]\n",
    "    \n",
    "    psi = 1.0\n",
    "    dpsi_dr = 0.0\n",
    "    dpsi_dtheta = 0.0\n",
    "    for z in z_singularities:\n",
    "        distance = numpy.sqrt((h*numpy.sin(theta))**2 + (h*numpy.cos(theta) - z)**2)\n",
    "        psi += 0.5/distance\n",
    "        dpsi_dr -= 0.5*(h-z*numpy.cos(theta))/distance**3\n",
    "        dpsi_dtheta -= 0.5**h*z*numpy.sin(theta)/distance**3\n",
    "        # Apply reflection symmetry\n",
    "        if z > 0.0:\n",
    "            distance = numpy.sqrt((h*numpy.sin(theta))**2 + (h*numpy.cos(theta) + z)**2)\n",
    "            psi += 0.5/distance\n",
    "            dpsi_dr -= 0.5*(h+z*numpy.cos(theta))/distance**3\n",
    "            dpsi_dtheta += 0.5**h*z*numpy.sin(theta)/distance**3\n",
    "            \n",
    "\n",
    "    C2 = 1.0 / (1.0 + (dh / h)**2)\n",
    "    # Impose that the term involving cot(theta) vanishes on axis.\n",
    "    if (abs(theta) < 1e-16) or (abs(theta - numpy.pi) < 1e-16):\n",
    "        cot_theta_dh_C2 = 0.0\n",
    "    else:\n",
    "        cot_theta_dh_C2 = dh / (numpy.tan(theta) * C2)\n",
    "        \n",
    "    dHdtheta = numpy.zeros_like(H)\n",
    "    dHdtheta[0] = dh\n",
    "    dHdtheta[1] = 2.0*h - cot_theta_dh_C2 + 4.0*h**2/(psi*C2)*(dpsi_dr - dpsi_dtheta*dh/h**2) + 3.0*dh**2/h\n",
    "    \n",
    "    return dHdtheta"
   ]
  },
  {
   "cell_type": "markdown",
   "metadata": {
    "nbpresent": {
     "id": "302de421-1f86-4361-9579-7ad67794afa3"
    }
   },
   "source": [
    "## Axisymmetry\n",
    "\n",
    "We'll assume all masses are $1$, conformal flatness, time symmetry, axisymmetry and bitant symmetry.\n",
    "\n",
    "Using horizon radius $h(\\theta)$, ${\\bf H} = (h, h')^T$, problem is\n",
    "\n",
    "\\begin{align}\n",
    "  \\frac{d}{d \\theta} {\\bf H} &= {\\bf F}({\\bf H}, \\theta) = \\begin{pmatrix} H_2 \\\\ 2 H_1 + \\frac{3}{H_1} H_2^2 + f(\\theta, {\\bf H}) \\end{pmatrix}, \\\\ H_2(\\theta = 0) &= 0 = H_2(\\theta = \\pi/2).\n",
    "\\end{align}"
   ]
  },
  {
   "cell_type": "markdown",
   "metadata": {
    "nbpresent": {
     "id": "08739ffd-5c5e-4e5f-a5bf-a1b4c7a7d4bf"
    }
   },
   "source": [
    "## Euler's method\n",
    "\n",
    "Assume we know $H_1(0)$: an initial value problem.\n",
    "\n",
    "Apply forward differencing to derivative:\n",
    "\n",
    "\\begin{align}\n",
    "  && \\left. \\frac{d}{d \\theta} {\\bf H} \\right|_{\\theta = \\theta_i} & \\approx \\frac{1}{\\Delta \\theta} \\left( {\\bf H}^{(i+1)} - {\\bf H}^{(i)} \\right) \\\\\n",
    "  && & = {\\bf F}({\\bf H}^{(i)}, \\theta_i), \\\\\n",
    "  \\implies && {\\bf H}^{(i+1)} &= {\\bf H}^{(i)} + \\Delta \\theta \\, {\\bf F}({\\bf H}^{(i)}, \\theta_i).\n",
    "\\end{align}"
   ]
  },
  {
   "cell_type": "code",
   "execution_count": 3,
   "metadata": {
    "collapsed": false,
    "nbpresent": {
     "id": "b253bb12-4fd7-4458-b59f-826770532672"
    }
   },
   "outputs": [
    {
     "data": {
      "image/png": "[encoded data removed]",
      "text/plain": [
       "<matplotlib.figure.Figure at 0x10f142b70>"
      ]
     },
     "metadata": {},
     "output_type": "display_data"
    }
   ],
   "source": [
    "def euler_step(Hi, theta_i, dtheta, z_singularity):\n",
    "    return Hi + dtheta * horizon_RHS(Hi, theta_i, \n",
    "                                   z_singularity)\n",
    "\n",
    "Ntheta = 100\n",
    "z_singularity = [0.0]\n",
    "theta = numpy.linspace(0.0, numpy.pi/2.0, Ntheta)\n",
    "dtheta = theta[1] - theta[0]\n",
    "H = numpy.zeros((2, Ntheta))\n",
    "H[:, 0] = [0.5, 0.0]\n",
    "\n",
    "for i in range(Ntheta-1):\n",
    "    H[:, i+1] = euler_step(H[:, i], theta[i], dtheta, \n",
    "                           z_singularity)\n",
    "\n",
    "pyplot.figure()\n",
    "pyplot.polar(theta, H[0,:])\n",
    "pyplot.show()"
   ]
  },
  {
   "cell_type": "markdown",
   "metadata": {
    "nbpresent": {
     "id": "883732f2-fb14-484d-b604-bd381cb8ddbd"
    }
   },
   "source": [
    "## Runge-Kutta method\n",
    "\n",
    "Euler's method is first order (poor). Instead combine *multiple* Euler steps: Runge-Kutta methods. \n",
    "\n",
    "A second order method is\n",
    "\n",
    "\\begin{align}\n",
    "  {\\bf H}^{(p)} &= {\\bf H}^{(i)} + \\Delta \\theta \\, {\\bf F}({\\bf H}^{(i)}, \\theta_i), \\\\\n",
    "  {\\bf H}^{(i+1)} &= \\frac{1}{2} \\left( {\\bf H}^{(i)} + {\\bf H}^{(p)} + \\Delta \\theta \\, {\\bf F}({\\bf H}^{(p)}, \\theta_{i+1}) \\right).\n",
    "\\end{align}"
   ]
  },
  {
   "cell_type": "code",
   "execution_count": 4,
   "metadata": {
    "collapsed": false,
    "nbpresent": {
     "id": "694bb795-ca5e-40b7-a052-ff9f4b734299"
    }
   },
   "outputs": [
    {
     "data": {
      "image/png": "[encoded data removed]",
      "text/plain": [
       "<matplotlib.figure.Figure at 0x10f1426a0>"
      ]
     },
     "metadata": {},
     "output_type": "display_data"
    }
   ],
   "source": [
    "def rk2_step(Hi, theta_i, dtheta, z_singularity):\n",
    "    Hp = Hi + dtheta * horizon_RHS(Hi, theta_i,\n",
    "                                   z_singularity)\n",
    "    return 0.5*(Hi + Hp + \n",
    "                dtheta*horizon_RHS(Hp, theta_i+dtheta,\n",
    "                                   z_singularity))\n",
    "\n",
    "H = numpy.zeros((2, Ntheta))\n",
    "H[:, 0] = [0.5, 0.0]\n",
    "\n",
    "for i in range(Ntheta-1):\n",
    "    H[:, i+1] = rk2_step(H[:, i], theta[i], dtheta,\n",
    "                         z_singularity)\n",
    "\n",
    "pyplot.figure()\n",
    "pyplot.polar(theta, H[0,:])\n",
    "pyplot.show()"
   ]
  },
  {
   "cell_type": "markdown",
   "metadata": {
    "nbpresent": {
     "id": "590f7481-689a-40e8-ac9b-14c857ea721c"
    }
   },
   "source": [
    "## Root finding\n",
    "\n",
    "If we don't know $h(0)$ we need to find it. Method:\n",
    "\n",
    "1. Guess;\n",
    "2. Solve for ${\\bf H}$;\n",
    "3. Check boundary condition for $H_2(\\pi/2)$;\n",
    "4. Change guess and go to 2.\n",
    "\n",
    "This is a nonlinear root-finding problem."
   ]
  },
  {
   "cell_type": "code",
   "execution_count": 5,
   "metadata": {
    "collapsed": false,
    "nbpresent": {
     "id": "9d8843b5-8208-405a-bad6-a1b75390d125"
    }
   },
   "outputs": [
    {
     "data": {
      "image/png": "[encoded data removed]",
      "text/plain": [
       "<matplotlib.figure.Figure at 0x111647898>"
      ]
     },
     "metadata": {},
     "output_type": "display_data"
    },
    {
     "data": {
      "image/png": "[encoded data removed]",
      "text/plain": [
       "<matplotlib.figure.Figure at 0x1116430f0>"
      ]
     },
     "metadata": {},
     "output_type": "display_data"
    }
   ],
   "source": [
    "initial_guesses = numpy.linspace(0.4, 0.6, 10)\n",
    "solutions = []\n",
    "dhdtheta_end = numpy.zeros_like(initial_guesses)\n",
    "\n",
    "for guess, h0 in enumerate(initial_guesses):\n",
    "    H = numpy.zeros((2,Ntheta))\n",
    "    H[:, 0] = [h0, 0.0]\n",
    "    for i in range(Ntheta-1):\n",
    "        H[:, i+1] = rk2_step(H[:, i], theta[i], dtheta, z_singularity)\n",
    "    solutions.append(H[0,:])\n",
    "    dhdtheta_end[guess] = H[1, -1]\n",
    "    \n",
    "pyplot.figure()\n",
    "for r in solutions:\n",
    "    pyplot.polar(theta, r)\n",
    "pyplot.figure()\n",
    "pyplot.plot(initial_guesses, dhdtheta_end)\n",
    "pyplot.xlabel(r\"$h_0$\")\n",
    "pyplot.ylabel(r\"$dh/d\\theta(\\pi/2)$\")\n",
    "pyplot.show()"
   ]
  },
  {
   "cell_type": "markdown",
   "metadata": {
    "nbpresent": {
     "id": "337661a5-8733-4ca3-8822-c0d4fb750deb"
    }
   },
   "source": [
    "### Newton's method\n",
    "\n",
    "We want the root of $R(x)$. First guess $x_0$.\n",
    "\n",
    "Use our polynomial approximation again. If $R(x)$ is *linear* then\n",
    "\n",
    "$$\n",
    "  R(x_1) = 0 \\quad \\Leftrightarrow \\quad x_1 = x_0 - \\frac{f(x_0)}{f'(x_0)}.\n",
    "$$"
   ]
  },
  {
   "cell_type": "markdown",
   "metadata": {
    "nbpresent": {
     "id": "5746782a-f200-4553-bcc4-9911af1cbdd8"
    }
   },
   "source": [
    "### Secant method\n",
    "\n",
    "Computing derivatives is expensive, when it's even possible. Instead, assume two guesses $x_0, x_1$. Then\n",
    "\n",
    "$$\n",
    "  R(x_2) = 0 \\quad \\Leftrightarrow \\quad x_2 = x_1 - \\frac{f(x_1) \\left( x_1 - x_0 \\right)}{f(x_1) - f(x_0)}.\n",
    "$$"
   ]
  },
  {
   "cell_type": "code",
   "execution_count": 6,
   "metadata": {
    "collapsed": false,
    "nbpresent": {
     "id": "08bff55a-c5f4-463c-bb21-f934bcd31deb"
    }
   },
   "outputs": [
    {
     "name": "stdout",
     "output_type": "stream",
     "text": [
      "Computed initial radius is 0.50\n",
      "Error is 1.320e-13\n"
     ]
    }
   ],
   "source": [
    "def secant(R, x0, x1, args, tolerance = 1e-10):\n",
    "    x = x1\n",
    "    x_p = x0\n",
    "    while abs(R(x, args)) > tolerance:\n",
    "        x_new=x-(R(x,args)*(x-x_p))/(R(x,args)-R(x_p,args))\n",
    "        x_p = x\n",
    "        x = x_new\n",
    "    return x\n",
    "\n",
    "def residual(h0, z_singularities):\n",
    "    H = numpy.zeros((2, Ntheta))\n",
    "    H[:, 0] = [h0, 0.0]\n",
    "    for i in range(Ntheta-1):\n",
    "        H[:, i+1] = rk2_step(H[:, i], theta[i], dtheta, z_singularity)\n",
    "    return H[1, -1]\n",
    "\n",
    "h0 = secant(residual, 0.4, 0.6, z_singularity)\n",
    "print(\"Computed initial radius is {:4.2f}\".format(h0))\n",
    "print(\"Error is {:8.3e}\".format(abs(h0-0.5)))"
   ]
  },
  {
   "cell_type": "markdown",
   "metadata": {
    "nbpresent": {
     "id": "fc560753-8124-4422-bc25-19631dbba326"
    }
   },
   "source": [
    "# A real horizon\n",
    "\n",
    "So far we've just worked with Schwarzschild. A real horizon comes from [this paper](http://arxiv.org/abs/gr-qc/9809004) by Alcubierre et al, where the singularities are at $z = \\pm 0.75$:"
   ]
  },
  {
   "cell_type": "markdown",
   "metadata": {
    "nbpresent": {
     "id": "39dd3d27-bfe3-41ac-becc-aefcc3e8617a"
    }
   },
   "source": [
    "![Apparent horizon from Alcubierre et al](horizons-alcubierre-et-al.png)"
   ]
  },
  {
   "cell_type": "code",
   "execution_count": 7,
   "metadata": {
    "collapsed": false,
    "nbpresent": {
     "id": "f2373d76-bc44-4066-add9-7d24dbd32f6d"
    }
   },
   "outputs": [
    {
     "data": {
      "image/png": "[encoded data removed]",
      "text/plain": [
       "<matplotlib.figure.Figure at 0x111d3d5f8>"
      ]
     },
     "metadata": {},
     "output_type": "display_data"
    }
   ],
   "source": [
    "z_singularity = [0.75]\n",
    "h0 = secant(residual, 1.26, 1.4, z_singularity)\n",
    "\n",
    "H = numpy.zeros((2,Ntheta))\n",
    "H[:, 0] = [h0, 0.0]\n",
    "\n",
    "for i in range(Ntheta-1):\n",
    "    H[:, i+1] = rk2_step(H[:, i], theta[i], dtheta, \n",
    "                         z_singularity)\n",
    "\n",
    "pyplot.figure()\n",
    "pyplot.polar(theta, H[0,:])\n",
    "pyplot.show()"
   ]
  },
  {
   "cell_type": "markdown",
   "metadata": {
    "nbpresent": {
     "id": "9337126a-ff5c-4cb8-88e3-b188bc654e21"
    }
   },
   "source": [
    "# Exercises\n",
    "\n",
    "1. How does the solution vary with grid spacing and tolerance? What's the limiting factor? How do you check convergence?\n",
    "2. Both initial value solvers and root finders are available in libraries. Look at Python versions. When is this a good approach? "
   ]
  }
 ],
 "metadata": {
  "kernelspec": {
   "display_name": "Python 3",
   "language": "python",
   "name": "python3"
  },
  "language_info": {
   "codemirror_mode": {
    "name": "ipython",
    "version": 3
   },
   "file_extension": ".py",
   "mimetype": "text/x-python",
   "name": "python",
   "nbconvert_exporter": "python",
   "pygments_lexer": "ipython3",
   "version": "3.5.1"
  },
  "nbpresent": {
   "slides": {
    "1c90a977-b9cb-4d8e-88aa-dcfb9500eba6": {
     "id": "1c90a977-b9cb-4d8e-88aa-dcfb9500eba6",
     "prev": "beab49f5-7056-45f7-a2a7-92df44b63d47",
     "regions": {
      "2b95617f-1e2d-4c4a-8863-ee507a8326a4": {
       "attrs": {
        "height": 0.8000000000000002,
        "width": 0.5537870159453303,
        "x": 0.05,
        "y": 0.10000000000000002
       },
       "content": {
        "cell": "b253bb12-4fd7-4458-b59f-826770532672",
        "part": "source"
       },
       "id": "2b95617f-1e2d-4c4a-8863-ee507a8326a4"
      },
      "b04b35de-b795-43ed-801f-707086cba2ee": {
       "attrs": {
        "height": 0.8000000000000002,
        "width": 0.34621298405466966,
        "x": 0.6037870159453302,
        "y": 0.10000000000000002
       },
       "content": {
        "cell": "b253bb12-4fd7-4458-b59f-826770532672",
        "part": "outputs"
       },
       "id": "b04b35de-b795-43ed-801f-707086cba2ee"
      }
     }
    },
    "2dc52eb8-6a01-42a5-969f-12f5745a8c82": {
     "id": "2dc52eb8-6a01-42a5-969f-12f5745a8c82",
     "prev": "6eea91dc-b616-48a3-91d6-aca24137f990",
     "regions": {
      "5c1b530e-4836-460e-9853-b60e18736193": {
       "attrs": {
        "height": 0.8000000000000002,
        "width": 0.8,
        "x": 0.1,
        "y": 0.10000000000000002
       },
       "content": {
        "cell": "337661a5-8733-4ca3-8822-c0d4fb750deb",
        "part": "source"
       },
       "id": "5c1b530e-4836-460e-9853-b60e18736193"
      },
      "7b0895b4-2651-4723-a14f-11b027bc313c": {
       "attrs": {
        "height": 1,
        "width": 1,
        "x": 0,
        "y": 0
       },
       "id": "7b0895b4-2651-4723-a14f-11b027bc313c"
      }
     }
    },
    "2f6ed1c3-5267-4c26-9488-bd84d8549197": {
     "id": "2f6ed1c3-5267-4c26-9488-bd84d8549197",
     "prev": "1c90a977-b9cb-4d8e-88aa-dcfb9500eba6",
     "regions": {
      "717bb137-6ad2-4a5a-bfb5-3221393318d6": {
       "attrs": {
        "height": 0.8000000000000002,
        "width": 0.8,
        "x": 0.1,
        "y": 0.10000000000000002
       },
       "content": {
        "cell": "883732f2-fb14-484d-b604-bd381cb8ddbd",
        "part": "source"
       },
       "id": "717bb137-6ad2-4a5a-bfb5-3221393318d6"
      },
      "95d0c2d9-9a85-4fe8-8a58-e824bc326eec": {
       "attrs": {
        "height": 1,
        "width": 1,
        "x": 0,
        "y": 0
       },
       "id": "95d0c2d9-9a85-4fe8-8a58-e824bc326eec"
      }
     }
    },
    "36090927-8e00-4e1d-8cf4-1c8c9811751d": {
     "id": "36090927-8e00-4e1d-8cf4-1c8c9811751d",
     "prev": "d15b4d00-250f-45bb-b52b-dc9e2d58a654",
     "regions": {
      "96fb7c7e-5721-4682-9d9e-bae2ccd69016": {
       "attrs": {
        "height": 0.8000000000000002,
        "width": 0.8,
        "x": 0.1,
        "y": 0.10000000000000002
       },
       "content": {
        "cell": "9337126a-ff5c-4cb8-88e3-b188bc654e21",
        "part": "source"
       },
       "id": "96fb7c7e-5721-4682-9d9e-bae2ccd69016"
      },
      "c0d1b197-af2a-419e-b43e-bcb61b6c1d47": {
       "attrs": {
        "height": 1,
        "width": 1,
        "x": 0,
        "y": 0
       },
       "id": "c0d1b197-af2a-419e-b43e-bcb61b6c1d47"
      }
     }
    },
    "61bae22a-e4db-4668-9b24-2d3dacf7b70d": {
     "id": "61bae22a-e4db-4668-9b24-2d3dacf7b70d",
     "prev": "9d3b5d77-c2d8-4635-859f-6ea3702c5a24",
     "regions": {
      "2a23237e-5c48-4373-8081-3c9e58511a08": {
       "attrs": {
        "height": 1,
        "width": 1,
        "x": 0,
        "y": 0
       },
       "id": "2a23237e-5c48-4373-8081-3c9e58511a08"
      },
      "f5126c1a-6719-4f4f-a66f-0e9e37428f55": {
       "attrs": {
        "height": 0.8000000000000002,
        "width": 0.8,
        "x": 0.1,
        "y": 0.10000000000000002
       },
       "content": {
        "cell": "302de421-1f86-4361-9579-7ad67794afa3",
        "part": "source"
       },
       "id": "f5126c1a-6719-4f4f-a66f-0e9e37428f55"
      }
     }
    },
    "6eea91dc-b616-48a3-91d6-aca24137f990": {
     "id": "6eea91dc-b616-48a3-91d6-aca24137f990",
     "prev": "bfba08a6-12b7-43cf-9317-cb6136d15c74",
     "regions": {
      "1d7ee0d2-8e3f-4037-8fc2-5de8467de527": {
       "attrs": {
        "height": 0.8000000000000002,
        "width": 0.3462129840546696,
        "x": 0.6037870159453304,
        "y": 0.10000000000000002
       },
       "content": {
        "cell": "9d8843b5-8208-405a-bad6-a1b75390d125",
        "part": "outputs"
       },
       "id": "1d7ee0d2-8e3f-4037-8fc2-5de8467de527"
      },
      "c6ba991d-6b89-45c7-8182-43fee0185dcc": {
       "attrs": {
        "height": 0.8000000000000002,
        "width": 0.5512243735763098,
        "x": 0.05,
        "y": 0.10000000000000002
       },
       "content": {
        "cell": "9d8843b5-8208-405a-bad6-a1b75390d125",
        "part": "source"
       },
       "id": "c6ba991d-6b89-45c7-8182-43fee0185dcc"
      }
     }
    },
    "98358099-2329-43aa-b1d2-496c04dd5a4d": {
     "id": "98358099-2329-43aa-b1d2-496c04dd5a4d",
     "prev": "2f6ed1c3-5267-4c26-9488-bd84d8549197",
     "regions": {
      "4e6e1333-8f52-4a79-abc5-0db36593e827": {
       "attrs": {
        "height": 0.8000000000000002,
        "width": 0.5512243735763098,
        "x": 0.05,
        "y": 0.10000000000000002
       },
       "content": {
        "cell": "694bb795-ca5e-40b7-a052-ff9f4b734299",
        "part": "source"
       },
       "id": "4e6e1333-8f52-4a79-abc5-0db36593e827"
      },
      "932fba4f-292f-4e83-879e-e78ae8d2365a": {
       "attrs": {
        "height": 0.8000000000000002,
        "width": 0.35005694760820044,
        "x": 0.5999430523917996,
        "y": 0.10000000000000002
       },
       "content": {
        "cell": "694bb795-ca5e-40b7-a052-ff9f4b734299",
        "part": "outputs"
       },
       "id": "932fba4f-292f-4e83-879e-e78ae8d2365a"
      }
     }
    },
    "9d3b5d77-c2d8-4635-859f-6ea3702c5a24": {
     "id": "9d3b5d77-c2d8-4635-859f-6ea3702c5a24",
     "prev": null,
     "regions": {
      "8ba79fc0-da92-42a3-bd22-91747fcc6973": {
       "attrs": {
        "height": 1,
        "width": 1,
        "x": 0,
        "y": 0
       },
       "id": "8ba79fc0-da92-42a3-bd22-91747fcc6973"
      },
      "ab2fc7b8-cfd4-40ab-bd35-a37ddf0a87e0": {
       "attrs": {
        "height": 0.8000000000000002,
        "width": 0.8,
        "x": 0.1,
        "y": 0.10000000000000002
       },
       "content": {
        "cell": "fd9695cd-b294-4c5c-8cdc-622f4157d845",
        "part": "source"
       },
       "id": "ab2fc7b8-cfd4-40ab-bd35-a37ddf0a87e0"
      }
     },
     "theme": "0600150d-639b-4ced-ac74-26dbc02477a7"
    },
    "a0bf9dd8-1803-4104-855e-49ff5984b312": {
     "id": "a0bf9dd8-1803-4104-855e-49ff5984b312",
     "prev": "e0aafa5d-43f7-4c91-8059-24696e060f10",
     "regions": {
      "823b1ef1-730f-4ccb-8942-c3363ce54981": {
       "attrs": {
        "height": 0.8,
        "width": 0.45,
        "x": 0.5,
        "y": 0.1
       },
       "content": {
        "cell": "39dd3d27-bfe3-41ac-becc-aefcc3e8617a",
        "part": "source"
       },
       "id": "823b1ef1-730f-4ccb-8942-c3363ce54981"
      },
      "8e4a68c4-91c1-43b7-bf16-6f149b5c4dcd": {
       "attrs": {
        "height": 0.8,
        "width": 0.45,
        "x": 0.05,
        "y": 0.1
       },
       "content": {
        "cell": "fc560753-8124-4422-bc25-19631dbba326",
        "part": "source"
       },
       "id": "8e4a68c4-91c1-43b7-bf16-6f149b5c4dcd"
      }
     }
    },
    "beab49f5-7056-45f7-a2a7-92df44b63d47": {
     "id": "beab49f5-7056-45f7-a2a7-92df44b63d47",
     "prev": "61bae22a-e4db-4668-9b24-2d3dacf7b70d",
     "regions": {
      "2ba84a69-c060-4467-a08c-e166a46bf2fe": {
       "attrs": {
        "height": 0.8,
        "width": 0.8,
        "x": 0.1,
        "y": 0.1
       },
       "content": {
        "cell": "08739ffd-5c5e-4e5f-a5bf-a1b4c7a7d4bf",
        "part": "source"
       },
       "id": "2ba84a69-c060-4467-a08c-e166a46bf2fe"
      },
      "ee80578a-7b24-4ee1-bca8-07d8875e9856": {
       "attrs": {
        "height": 1,
        "width": 1,
        "x": 0,
        "y": 0
       },
       "id": "ee80578a-7b24-4ee1-bca8-07d8875e9856"
      }
     }
    },
    "bfba08a6-12b7-43cf-9317-cb6136d15c74": {
     "id": "bfba08a6-12b7-43cf-9317-cb6136d15c74",
     "prev": "98358099-2329-43aa-b1d2-496c04dd5a4d",
     "regions": {
      "78267e60-ab15-4896-8b43-e5f108c451de": {
       "attrs": {
        "height": 1,
        "width": 1,
        "x": 0,
        "y": 0
       },
       "id": "78267e60-ab15-4896-8b43-e5f108c451de"
      },
      "e08ce713-e7ec-490e-8519-bd3a127e524c": {
       "attrs": {
        "height": 0.8000000000000002,
        "width": 0.8,
        "x": 0.1,
        "y": 0.10000000000000002
       },
       "content": {
        "cell": "590f7481-689a-40e8-ac9b-14c857ea721c",
        "part": "source"
       },
       "id": "e08ce713-e7ec-490e-8519-bd3a127e524c"
      }
     }
    },
    "d15b4d00-250f-45bb-b52b-dc9e2d58a654": {
     "id": "d15b4d00-250f-45bb-b52b-dc9e2d58a654",
     "prev": "a0bf9dd8-1803-4104-855e-49ff5984b312",
     "regions": {
      "3f4df580-a2ca-4ea6-abf0-07da13eaa9ab": {
       "attrs": {
        "height": 0.8000000000000002,
        "width": 0.34749430523917996,
        "x": 0.60250569476082,
        "y": 0.10000000000000002
       },
       "content": {
        "cell": "f2373d76-bc44-4066-add9-7d24dbd32f6d",
        "part": "outputs"
       },
       "id": "3f4df580-a2ca-4ea6-abf0-07da13eaa9ab"
      },
      "45c2b4f8-75bc-45c4-aa8d-92666b4de825": {
       "attrs": {
        "height": 0.8000000000000002,
        "width": 0.55250569476082,
        "x": 0.05,
        "y": 0.10000000000000002
       },
       "content": {
        "cell": "f2373d76-bc44-4066-add9-7d24dbd32f6d",
        "part": "source"
       },
       "id": "45c2b4f8-75bc-45c4-aa8d-92666b4de825"
      }
     }
    },
    "e0aafa5d-43f7-4c91-8059-24696e060f10": {
     "id": "e0aafa5d-43f7-4c91-8059-24696e060f10",
     "prev": "ec7ee500-856c-4b61-968f-41b490dae025",
     "regions": {
      "3d629157-c401-485e-bce2-8e0b7cd56b59": {
       "attrs": {
        "height": 0.8000000000000002,
        "width": 0.35005694760820044,
        "x": 0.5999430523917996,
        "y": 0.10000000000000002
       },
       "content": {
        "cell": "08bff55a-c5f4-463c-bb21-f934bcd31deb",
        "part": "outputs"
       },
       "id": "3d629157-c401-485e-bce2-8e0b7cd56b59"
      },
      "9464b865-e112-4de2-ad7c-44a48f8d54e8": {
       "attrs": {
        "height": 0.8000000000000002,
        "width": 0.5512243735763098,
        "x": 0.05,
        "y": 0.10000000000000002
       },
       "content": {
        "cell": "08bff55a-c5f4-463c-bb21-f934bcd31deb",
        "part": "source"
       },
       "id": "9464b865-e112-4de2-ad7c-44a48f8d54e8"
      }
     }
    },
    "ec7ee500-856c-4b61-968f-41b490dae025": {
     "id": "ec7ee500-856c-4b61-968f-41b490dae025",
     "prev": "2dc52eb8-6a01-42a5-969f-12f5745a8c82",
     "regions": {
      "14c2ff97-7637-4b49-8079-717e1c18bfe7": {
       "attrs": {
        "height": 1,
        "width": 1,
        "x": 0,
        "y": 0
       },
       "id": "14c2ff97-7637-4b49-8079-717e1c18bfe7"
      },
      "eda1edff-022c-48bf-ae32-f89245a4e509": {
       "attrs": {
        "height": 0.8000000000000002,
        "width": 0.8,
        "x": 0.1,
        "y": 0.10000000000000002
       },
       "content": {
        "cell": "5746782a-f200-4553-bcc4-9911af1cbdd8",
        "part": "source"
       },
       "id": "eda1edff-022c-48bf-ae32-f89245a4e509"
      }
     }
    }
   },
   "themes": {
    "default": "39285f36-51b5-4d0a-9e73-2ebd5a8be1af",
    "theme": {
     "6ab79230-cf01-495b-8464-e70da3625201": {
      "id": "6ab79230-cf01-495b-8464-e70da3625201",
      "palette": {
       "19cc588f-0593-49c9-9f4b-e4d7cc113b1c": {
        "id": "19cc588f-0593-49c9-9f4b-e4d7cc113b1c",
        "rgb": [
         252,
         252,
         252
        ]
       },
       "31af15d2-7e15-44c5-ab5e-e04b16a89eff": {
        "id": "31af15d2-7e15-44c5-ab5e-e04b16a89eff",
        "rgb": [
         68,
         68,
         68
        ]
       },
       "50f92c45-a630-455b-aec3-788680ec7410": {
        "id": "50f92c45-a630-455b-aec3-788680ec7410",
        "rgb": [
         155,
         177,
         192
        ]
       },
       "c5cc3653-2ee1-402a-aba2-7caae1da4f6c": {
        "id": "c5cc3653-2ee1-402a-aba2-7caae1da4f6c",
        "rgb": [
         43,
         126,
         184
        ]
       },
       "efa7f048-9acb-414c-8b04-a26811511a21": {
        "id": "efa7f048-9acb-414c-8b04-a26811511a21",
        "rgb": [
         25.118061674008803,
         73.60176211453744,
         107.4819383259912
        ]
       }
      },
      "rules": {
       "blockquote": {
        "color": "50f92c45-a630-455b-aec3-788680ec7410"
       },
       "code": {
        "font-family": "Anonymous Pro"
       },
       "h1": {
        "color": "c5cc3653-2ee1-402a-aba2-7caae1da4f6c",
        "font-family": "Gudea",
        "font-size": 8
       },
       "h2": {
        "color": "c5cc3653-2ee1-402a-aba2-7caae1da4f6c",
        "font-family": "Gudea",
        "font-size": 6
       },
       "h3": {
        "color": "50f92c45-a630-455b-aec3-788680ec7410",
        "font-family": "Gudea",
        "font-size": 5.5
       },
       "h4": {
        "color": "c5cc3653-2ee1-402a-aba2-7caae1da4f6c",
        "font-family": "Gudea",
        "font-size": 5
       },
       "h5": {
        "font-family": "Gudea"
       },
       "h6": {
        "font-family": "Gudea"
       },
       "h7": {
        "font-family": "Gudea"
       },
       "li": {
        "font-family": "Gudea"
       },
       "pre": {
        "font-family": "Anonymous Pro",
        "font-size": 2.5
       }
      },
      "text-base": {
       "font-family": "Gudea",
       "font-size": 3
      }
     }
    }
   }
  }
 },
 "nbformat": 4,
 "nbformat_minor": 0
}
