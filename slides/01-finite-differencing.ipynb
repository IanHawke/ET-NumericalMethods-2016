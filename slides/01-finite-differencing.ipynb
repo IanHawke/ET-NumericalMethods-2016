{
 "cells": [
  {
   "cell_type": "markdown",
   "metadata": {
    "nbpresent": {
     "id": "d1a3e552-f9da-4806-b007-2f501189b361"
    }
   },
   "source": [
    "# Numerical Methods\n",
    "\n",
    "Most algorithms rely on\n",
    "\n",
    "1. solving simultaneous, linear equations $A {\\bf x} = {\\bf b}$;\n",
    "2. solving nonlinear equations ${\\bf f}({\\bf x}) = {\\bf 0}$;\n",
    "3. representing functions $f(x)$ with a finite amount of data;\n",
    "4. taking eg Fourier transforms;\n",
    "5. stochastic methods.\n",
    "\n",
    "Numerical relativity concentrates on the first three."
   ]
  },
  {
   "cell_type": "markdown",
   "metadata": {
    "nbpresent": {
     "id": "38bd173f-a1e6-4961-94bf-886e7161e0f9"
    }
   },
   "source": [
    "# Finite differencing\n",
    "\n",
    "* Assume $f(x)$ known at $\\{x_i\\}$.\n",
    "* Set $g(x)$ to polynomial, $g(x_i) = f(x_i)$.\n",
    "* Approximate: $f'(x) \\simeq g'(x)$.\n",
    "\n",
    "Higher order polynomials give higher order accuracy.\n",
    "\n",
    "May need to choose $\\{x_i\\}$ carefully."
   ]
  },
  {
   "cell_type": "code",
   "execution_count": 1,
   "metadata": {
    "collapsed": false
   },
   "outputs": [],
   "source": [
    "%matplotlib inline\n",
    "from matplotlib import pyplot\n",
    "import numpy\n",
    "\n",
    "def linear_interpolation(f, x_points):\n",
    "    \"\"\"\n",
    "    Return the function that linearly interpolates f at the two x_points, and its derivative.\n",
    "    \"\"\"\n",
    "    \n",
    "    xi, xip = x_points\n",
    "    \n",
    "    g = lambda x : (x - xip) / (xi - xip) * f(xi) + (x - xi) / (xip - xi) * f(xip)\n",
    "    dg = lambda x : f(xi) / (xi - xip) + f(xip) / (xip - xi)\n",
    "    \n",
    "    return g, dg\n",
    "\n",
    "def quadratic_interpolation(f, x_points):\n",
    "    \"\"\"\n",
    "    Return the function that quadratically interpolates f at the two x_points, and its derivative.\n",
    "    \"\"\"\n",
    "    \n",
    "    xim, xi, xip = x_points\n",
    "    \n",
    "    g = lambda x : (x - xi ) * (x - xip) / (xim - xi ) / (xim - xip) * f(xim) + \\\n",
    "                   (x - xim) * (x - xip) / (xi  - xim) / (xi  - xip) * f(xi ) + \\\n",
    "                   (x - xim) * (x - xi ) / (xip - xim) / (xip - xi ) * f(xip)\n",
    "    dg = lambda x : (2.0*x - xi  - xip) / (xim - xi ) / (xim - xip) * f(xim) + \\\n",
    "                    (2.0*x - xim - xip) / (xi  - xim) / (xi  - xip) * f(xi ) + \\\n",
    "                    (2.0*x - xim - xi ) / (xip - xim) / (xip - xi ) * f(xip)\n",
    "    \n",
    "    return g, dg"
   ]
  },
  {
   "cell_type": "code",
   "execution_count": 2,
   "metadata": {
    "collapsed": true
   },
   "outputs": [],
   "source": [
    "def linear_interpolated_data(f, x, n_intervals):\n",
    "    \"\"\"\n",
    "    Takes the x coordinates and interpolates f(x) over n_intervals (ie, at n_intervals+1 equally spaced points),\n",
    "    returning the interpolated values at coordinates x.\n",
    "    \"\"\"\n",
    "    \n",
    "    n_interp_points = int((len(x)-1)/n_intervals)\n",
    "    x_interpolant = numpy.linspace(0, 1, n_intervals+1)\n",
    "    g_fd = numpy.zeros_like(x)\n",
    "    dg_fd = numpy.zeros_like(x)\n",
    "    \n",
    "    for i in range(n_intervals):\n",
    "        g, dg = linear_interpolation(f, \n",
    "                                     [x_interpolant[i], \n",
    "                                      x_interpolant[i+1]])\n",
    "        g_fd[n_interp_points*i:n_interp_points*(i+1)] = g(x[n_interp_points*i:n_interp_points*(i+1)])\n",
    "        dg_fd[n_interp_points*i:n_interp_points*(i+1)] = dg(x[n_interp_points*i:n_interp_points*(i+1)])\n",
    "    g_fd[-1] = g(x[-1])\n",
    "    dg_fd[-1] = dg(x[-1])\n",
    "    \n",
    "    return g_fd, dg_fd\n",
    "\n",
    "def quadratic_interpolated_data(f, x, n_intervals):\n",
    "    \"\"\"\n",
    "    Takes the x coordinates and interpolates f(x) over n_intervals (ie, at n_intervals+1 equally spaced points),\n",
    "    returning the interpolated values at coordinates x.\n",
    "    \"\"\"\n",
    "    \n",
    "    n_interp_points = int((len(x)-1)/n_intervals)\n",
    "    x_interpolant = numpy.linspace(0, 1, n_intervals+1)\n",
    "    g_cd = numpy.zeros_like(x)\n",
    "    dg_cd = numpy.zeros_like(x)\n",
    "    \n",
    "    for i in range(1, n_intervals, 2):\n",
    "        g, dg = quadratic_interpolation(f, \n",
    "                                        [x_interpolant[i-1], \n",
    "                                         x_interpolant[i], \n",
    "                                         x_interpolant[i+1]])\n",
    "        g_cd[n_interp_points*(i-1):n_interp_points*(i+1)] = g(x[n_interp_points*(i-1):n_interp_points*(i+1)])\n",
    "        dg_cd[n_interp_points*(i-1):n_interp_points*(i+1)] = dg(x[n_interp_points*(i-1):n_interp_points*(i+1)])\n",
    "    g_cd[-1] = g(x[-1])\n",
    "    dg_cd[-1] = dg(x[-1])\n",
    "    \n",
    "    return g_cd, dg_cd"
   ]
  },
  {
   "cell_type": "code",
   "execution_count": 3,
   "metadata": {
    "collapsed": false,
    "nbpresent": {
     "id": "c8e740a3-4f83-45d1-944b-87efdf0f0d3e"
    }
   },
   "outputs": [
    {
     "data": {
      "image/png": "[encoded data removed]",
      "text/plain": [
       "<matplotlib.figure.Figure at 0x10b847eb8>"
      ]
     },
     "metadata": {},
     "output_type": "display_data"
    },
    {
     "data": {
      "image/png": "[encoded data removed]",
      "text/plain": [
       "<matplotlib.figure.Figure at 0x10dd186d8>"
      ]
     },
     "metadata": {},
     "output_type": "display_data"
    }
   ],
   "source": [
    "def f(x):\n",
    "    return 1-(x-0.25)**2+numpy.sin(3*numpy.pi*x)**3\n",
    "\n",
    "x = numpy.linspace(0, 1, 129)\n",
    "n_intervals = 4\n",
    "\n",
    "g_fd, dg_fd = linear_interpolated_data(f, x, \n",
    "                                       n_intervals)\n",
    "g_cd, dg_cd = quadratic_interpolated_data(f, x, \n",
    "                                          n_intervals)\n",
    "\n",
    "pyplot.figure()\n",
    "pyplot.plot(x, f(x), 'k-', lw=2)\n",
    "pyplot.plot(x, g_fd, 'b--', lw=2)\n",
    "pyplot.figure()\n",
    "pyplot.plot(x, f(x), 'k-', lw=2)\n",
    "pyplot.plot(x, g_cd, 'r--', lw=2)\n",
    "pyplot.show()"
   ]
  },
  {
   "cell_type": "code",
   "execution_count": 4,
   "metadata": {
    "collapsed": false,
    "nbpresent": {
     "id": "14a37ff8-0206-4b33-b947-ac5ead9bf8e1"
    }
   },
   "outputs": [
    {
     "data": {
      "image/png": "[encoded data removed]",
      "text/plain": [
       "<matplotlib.figure.Figure at 0x10b8ff6a0>"
      ]
     },
     "metadata": {},
     "output_type": "display_data"
    },
    {
     "data": {
      "image/png": "[encoded data removed]",
      "text/plain": [
       "<matplotlib.figure.Figure at 0x10dd6e6d8>"
      ]
     },
     "metadata": {},
     "output_type": "display_data"
    }
   ],
   "source": [
    "def df(x):\n",
    "    return -2*(x-0.25)+9*numpy.pi*\\\n",
    "           numpy.sin(3*numpy.pi*x)**2*\\\n",
    "           numpy.cos(3*numpy.pi*x)\n",
    "\n",
    "n_intervals = 4\n",
    "\n",
    "g_fd, dg_fd = linear_interpolated_data(f, x, \n",
    "                                       n_intervals)\n",
    "g_cd, dg_cd = quadratic_interpolated_data(f, x, \n",
    "                                          n_intervals)\n",
    "\n",
    "pyplot.figure()\n",
    "pyplot.plot(x, df(x), 'k-', lw=2)\n",
    "pyplot.plot(x, dg_fd, 'b--', lw=2)\n",
    "pyplot.figure()\n",
    "pyplot.plot(x, df(x), 'k-', lw=2)\n",
    "pyplot.plot(x, dg_cd, 'r--', lw=2)\n",
    "pyplot.show()"
   ]
  },
  {
   "cell_type": "markdown",
   "metadata": {
    "nbpresent": {
     "id": "96090e9a-f905-47bd-9856-708d8ae22a39"
    }
   },
   "source": [
    "## Finite differencing formulas\n",
    "\n",
    "Equally spaced grid, $\\Delta x$:\n",
    "\n",
    "\n",
    "\\begin{align}\n",
    "  \\text{Forwards:} && \\left. \\frac{\\partial f}{\\partial x} \\right|_{x = x_i} &= \\frac{1}{\\Delta x} \\left( f_{i+1} - f_i \\right) + {\\cal O} \\left( \\Delta x \\right), \\\\\n",
    "  \\text{Backwards:} && \\left. \\frac{\\partial f}{\\partial x} \\right|_{x = x_i} &= \\frac{1}{\\Delta x} \\left( f_{i} - f_{i-1} \\right) + {\\cal O} \\left( \\Delta x \\right), \\\\\n",
    "  \\text{Central:} && \\left. \\frac{\\partial f}{\\partial x} \\right|_{x = x_i} &= \\frac{1}{2 \\, \\Delta x} \\left( f_{i+1} - f_{i-1} \\right) + {\\cal O} \\left( \\Delta x^2 \\right), \\\\\n",
    "  \\text{Central:} && \\left. \\frac{\\partial^2 f}{\\partial x^2} \\right|_{x = x_i} &= \\frac{1}{\\left( \\Delta x \\right)^2} \\left( f_{i-1} - 2 f_i + f_{i+1} \\right) + {\\cal O} \\left( \\Delta x^2 \\right).\n",
    "\\end{align}"
   ]
  },
  {
   "cell_type": "code",
   "execution_count": 5,
   "metadata": {
    "collapsed": false,
    "nbpresent": {
     "id": "b67fcb6a-4133-442f-bad1-81b031f48d9b"
    }
   },
   "outputs": [
    {
     "name": "stdout",
     "output_type": "stream",
     "text": [
      "Find derivatives of exp(x), x=0.\n",
      "\n",
      "Backward:\n",
      "Value is 0.95, error 4.84e-02\n",
      "\n",
      "Forward:\n",
      "Value is 1.05, error 5.17e-02\n",
      "\n",
      "Central (1st derivative):\n",
      "Value is 1.00, error 1.67e-03\n",
      "\n",
      "Central (2 derivatives):\n",
      "Value is 1.00, error 8.34e-04\n"
     ]
    }
   ],
   "source": [
    "def backward_differencing(f, x_i, dx):\n",
    "    f_i = f(x_i)\n",
    "    f_i_minus_1 = f(x_i - dx)\n",
    "    return (f_i - f_i_minus_1) / dx\n",
    "\n",
    "def forward_differencing(f, x_i, dx):\n",
    "    f_i = f(x_i)\n",
    "    f_i_plus_1 = f(x_i + dx)\n",
    "    return (f_i_plus_1 - f_i) / dx\n",
    "\n",
    "def central_differencing(f, x_i, dx):\n",
    "    f_i = f(x_i)\n",
    "    f_i_minus_1 = f(x_i - dx)\n",
    "    f_i_plus_1 = f(x_i + dx)\n",
    "    diff_1 = (f_i_plus_1-f_i_minus_1)/(2.0*dx)\n",
    "    diff_2 = (f_i_minus_1-2.0*f_i+f_i_plus_1)/(dx**2)\n",
    "    return diff_1, diff_2\n",
    "\n",
    "dx = 0.1\n",
    "bd = backward_differencing(numpy.exp, 0.0, dx)\n",
    "fd = forward_differencing(numpy.exp, 0.0, dx)\n",
    "cd1, cd2 = central_differencing(numpy.exp, 0.0, dx)\n",
    "\n",
    "\n",
    "print(\"Find derivatives of exp(x), x=0.\\n\")\n",
    "print(\"Backward:\")\n",
    "print(\"Value is {:4.2f}, error {:7.2e}\\n\".format(bd, abs(bd - 1.0)))\n",
    "print(\"Forward:\")\n",
    "print(\"Value is {:4.2f}, error {:7.2e}\\n\".format(fd, abs(fd - 1.0)))\n",
    "print(\"Central (1st derivative):\")\n",
    "print(\"Value is {:4.2f}, error {:7.2e}\\n\".format(cd1, abs(cd1 - 1.0)))\n",
    "print(\"Central (2 derivatives):\")\n",
    "print(\"Value is {:4.2f}, error {:7.2e}\".format(cd2, abs(cd2 - 1.0)))"
   ]
  },
  {
   "cell_type": "markdown",
   "metadata": {
    "nbpresent": {
     "id": "1e55d0d7-ff8d-485e-ad26-cf15731e4db6"
    }
   },
   "source": [
    "# Convergence\n",
    "\n",
    "Error must go to zero with approximation \"scale\". Here\n",
    "\n",
    "$$\n",
    "  {\\cal E} = C \\left( \\Delta x \\right)^p, \\qquad p > 0.\n",
    "$$\n",
    "\n",
    "Need experimental evidence for this. Rewrite as\n",
    "\n",
    "$$\n",
    "  \\log \\left( {\\cal E} \\right) = p \\log \\left( \\Delta x \\right) + \\text{constant},\n",
    "$$\n",
    "\n",
    "and find $p$ as the resulting \"slope\"."
   ]
  },
  {
   "cell_type": "code",
   "execution_count": 6,
   "metadata": {
    "collapsed": false,
    "nbpresent": {
     "id": "60b702d0-d74f-4fba-9d13-27acd01cf4ee"
    }
   },
   "outputs": [
    {
     "data": {
      "image/png": "[encoded data removed]",
      "text/plain": [
       "<matplotlib.figure.Figure at 0x10b847cc0>"
      ]
     },
     "metadata": {},
     "output_type": "display_data"
    }
   ],
   "source": [
    "dxs = numpy.logspace(-5, 0, 10)\n",
    "bd_errors = numpy.zeros_like(dxs)\n",
    "\n",
    "for i, dx in enumerate(dxs):\n",
    "    bd = backward_differencing(numpy.exp, 0.0, dx)\n",
    "    bd_errors[i] = abs(bd - 1.0)\n",
    "    \n",
    "pyplot.figure()\n",
    "pyplot.loglog(dxs, bd_errors, 'kx', ms=10, mew=2,\n",
    "              label='Backwards')\n",
    "pyplot.loglog(dxs, dxs*(bd_errors[0]/dxs[0]), \n",
    "              'b--', lw=2, label=r\"$p=1$\")\n",
    "pyplot.xlabel(r\"$\\Delta x$\")\n",
    "pyplot.ylabel(\"Error\")\n",
    "pyplot.legend(loc=\"lower right\")\n",
    "pyplot.show()"
   ]
  },
  {
   "cell_type": "markdown",
   "metadata": {
    "nbpresent": {
     "id": "1f41c24e-b00d-4993-9306-2098af6414e4"
    }
   },
   "source": [
    "# Exercises\n",
    "\n",
    "1. Check the convergence rate of the other differencing methods.\n",
    "2. Do you see why there's issues with the second derivative case?\n",
    "3. Check convergence for fourth order differencing.\n",
    "4. Rather than a visual check, *measure* the convergence rate. How close should it be?\n",
    "5. Look at self convergence."
   ]
  }
 ],
 "metadata": {
  "kernelspec": {
   "display_name": "Python 3",
   "language": "python",
   "name": "python3"
  },
  "language_info": {
   "codemirror_mode": {
    "name": "ipython",
    "version": 3
   },
   "file_extension": ".py",
   "mimetype": "text/x-python",
   "name": "python",
   "nbconvert_exporter": "python",
   "pygments_lexer": "ipython3",
   "version": "3.5.1"
  },
  "nbpresent": {
   "slides": {
    "1b2ed4c8-132b-4e14-92d0-1095dc555a53": {
     "id": "1b2ed4c8-132b-4e14-92d0-1095dc555a53",
     "prev": "fc99eb19-466b-4100-ad3d-6f84f92658d9",
     "regions": {
      "1c947e5e-f2ec-4245-b182-eb5476bcfd9e": {
       "attrs": {
        "height": 0.8000000000000002,
        "width": 0.8,
        "x": 0.1,
        "y": 0.10000000000000002
       },
       "content": {
        "cell": "96090e9a-f905-47bd-9856-708d8ae22a39",
        "part": "source"
       },
       "id": "1c947e5e-f2ec-4245-b182-eb5476bcfd9e"
      },
      "204292d3-74c8-41b6-bf8a-491c49619691": {
       "attrs": {
        "height": 1,
        "width": 1,
        "x": 0,
        "y": 0
       },
       "id": "204292d3-74c8-41b6-bf8a-491c49619691"
      }
     }
    },
    "55433a49-6b0d-4d5e-be6d-82825cf8a9ab": {
     "id": "55433a49-6b0d-4d5e-be6d-82825cf8a9ab",
     "prev": "72dc2d2b-5ebc-40d7-b770-570b0a79aba9",
     "regions": {
      "eb0c790f-57d3-4445-bda3-23ea9c272002": {
       "attrs": {
        "height": 0.8,
        "width": 0.8,
        "x": 0.1,
        "y": 0.1
       },
       "content": {
        "cell": "38bd173f-a1e6-4961-94bf-886e7161e0f9",
        "part": "source"
       },
       "id": "eb0c790f-57d3-4445-bda3-23ea9c272002"
      }
     }
    },
    "61edb15d-3eb2-4b5c-a385-0cfa3b31bd64": {
     "id": "61edb15d-3eb2-4b5c-a385-0cfa3b31bd64",
     "prev": "79476747-3c41-4f4b-95a3-1a022fd9ee17",
     "regions": {
      "1018eb62-808f-478a-af8b-5b95f64643a5": {
       "attrs": {
        "height": 0.8000000000000002,
        "width": 0.3487756264236902,
        "x": 0.6012243735763098,
        "y": 0.10000000000000002
       },
       "content": {
        "cell": "60b702d0-d74f-4fba-9d13-27acd01cf4ee",
        "part": "outputs"
       },
       "id": "1018eb62-808f-478a-af8b-5b95f64643a5"
      },
      "59c7fa22-5f6b-47af-a925-f03043b6406f": {
       "attrs": {
        "height": 0.8000000000000002,
        "width": 0.5499430523917995,
        "x": 0.05,
        "y": 0.10000000000000002
       },
       "content": {
        "cell": "60b702d0-d74f-4fba-9d13-27acd01cf4ee",
        "part": "source"
       },
       "id": "59c7fa22-5f6b-47af-a925-f03043b6406f"
      }
     }
    },
    "72dc2d2b-5ebc-40d7-b770-570b0a79aba9": {
     "id": "72dc2d2b-5ebc-40d7-b770-570b0a79aba9",
     "prev": null,
     "regions": {
      "830aeeb5-fe19-4bcf-99e2-35bc3e55997f": {
       "attrs": {
        "height": 0.8,
        "width": 0.8,
        "x": 0.1,
        "y": 0.1
       },
       "content": {
        "cell": "d1a3e552-f9da-4806-b007-2f501189b361",
        "part": "whole"
       },
       "id": "830aeeb5-fe19-4bcf-99e2-35bc3e55997f"
      }
     }
    },
    "79476747-3c41-4f4b-95a3-1a022fd9ee17": {
     "id": "79476747-3c41-4f4b-95a3-1a022fd9ee17",
     "prev": "f036ea5e-b357-4c0a-8a35-ec84e6555dd3",
     "regions": {
      "b91fc5ca-5571-4199-a66e-92a2ff2b45c6": {
       "attrs": {
        "height": 1,
        "width": 1,
        "x": 0,
        "y": 0
       },
       "id": "b91fc5ca-5571-4199-a66e-92a2ff2b45c6"
      },
      "fc7b6a1a-9550-4189-9e43-455ee6e060e1": {
       "attrs": {
        "height": 0.8000000000000002,
        "width": 0.8,
        "x": 0.1,
        "y": 0.10000000000000002
       },
       "content": {
        "cell": "1e55d0d7-ff8d-485e-ad26-cf15731e4db6",
        "part": "source"
       },
       "id": "fc7b6a1a-9550-4189-9e43-455ee6e060e1"
      }
     }
    },
    "9be4e292-e4e1-4961-9ed8-510503b953ed": {
     "id": "9be4e292-e4e1-4961-9ed8-510503b953ed",
     "prev": "55433a49-6b0d-4d5e-be6d-82825cf8a9ab",
     "regions": {
      "a5dd080e-0c52-4cda-9245-728f2ae1fe0f": {
       "attrs": {
        "height": 0.8000000000000002,
        "width": 0.5499430523917995,
        "x": 0.05,
        "y": 0.10000000000000002
       },
       "content": {
        "cell": "c8e740a3-4f83-45d1-944b-87efdf0f0d3e",
        "part": "source"
       },
       "id": "a5dd080e-0c52-4cda-9245-728f2ae1fe0f"
      },
      "b434f7ae-47a2-4169-a683-00136bed1da5": {
       "attrs": {
        "height": 0.8000000000000002,
        "width": 0.34621298405466966,
        "x": 0.6037870159453302,
        "y": 0.10000000000000002
       },
       "content": {
        "cell": "c8e740a3-4f83-45d1-944b-87efdf0f0d3e",
        "part": "outputs"
       },
       "id": "b434f7ae-47a2-4169-a683-00136bed1da5"
      }
     }
    },
    "e1b190c9-64ef-4c02-98af-2118c24c409b": {
     "id": "e1b190c9-64ef-4c02-98af-2118c24c409b",
     "prev": "61edb15d-3eb2-4b5c-a385-0cfa3b31bd64",
     "regions": {
      "1a1951d5-547d-4ce0-8d8b-eea748cbe74d": {
       "attrs": {
        "height": 1,
        "width": 1,
        "x": 0,
        "y": 0
       },
       "id": "1a1951d5-547d-4ce0-8d8b-eea748cbe74d"
      },
      "9e23c8a8-1511-4fa7-9f37-4f4c2eba7486": {
       "attrs": {
        "height": 0.8000000000000002,
        "width": 0.8,
        "x": 0.1,
        "y": 0.10000000000000002
       },
       "content": {
        "cell": "1f41c24e-b00d-4993-9306-2098af6414e4",
        "part": "source"
       },
       "id": "9e23c8a8-1511-4fa7-9f37-4f4c2eba7486"
      }
     }
    },
    "f036ea5e-b357-4c0a-8a35-ec84e6555dd3": {
     "id": "f036ea5e-b357-4c0a-8a35-ec84e6555dd3",
     "prev": "1b2ed4c8-132b-4e14-92d0-1095dc555a53",
     "regions": {
      "b4c20406-1dd4-4aac-83e2-328dd7342abd": {
       "attrs": {
        "height": 0.8000000000000002,
        "width": 0.3487756264236902,
        "x": 0.6012243735763098,
        "y": 0.10000000000000002
       },
       "content": {
        "cell": "b67fcb6a-4133-442f-bad1-81b031f48d9b",
        "part": "outputs"
       },
       "id": "b4c20406-1dd4-4aac-83e2-328dd7342abd"
      },
      "fd56383c-594d-40d2-a318-f2a8a403c436": {
       "attrs": {
        "height": 0.8000000000000002,
        "width": 0.5499430523917996,
        "x": 0.05,
        "y": 0.10000000000000002
       },
       "content": {
        "cell": "b67fcb6a-4133-442f-bad1-81b031f48d9b",
        "part": "source"
       },
       "id": "fd56383c-594d-40d2-a318-f2a8a403c436"
      }
     }
    },
    "fc99eb19-466b-4100-ad3d-6f84f92658d9": {
     "id": "fc99eb19-466b-4100-ad3d-6f84f92658d9",
     "prev": "9be4e292-e4e1-4961-9ed8-510503b953ed",
     "regions": {
      "0dd3aac2-161d-4972-ab50-231f7b5963ed": {
       "attrs": {
        "height": 0.8000000000000002,
        "width": 0.5512243735763098,
        "x": 0.05,
        "y": 0.10000000000000002
       },
       "content": {
        "cell": "14a37ff8-0206-4b33-b947-ac5ead9bf8e1",
        "part": "source"
       },
       "id": "0dd3aac2-161d-4972-ab50-231f7b5963ed"
      },
      "4caaf497-ea43-4c98-a586-5f972f975e29": {
       "attrs": {
        "height": 0.8000000000000002,
        "width": 0.34493166287015953,
        "x": 0.6050683371298404,
        "y": 0.10000000000000002
       },
       "content": {
        "cell": "14a37ff8-0206-4b33-b947-ac5ead9bf8e1",
        "part": "outputs"
       },
       "id": "4caaf497-ea43-4c98-a586-5f972f975e29"
      }
     }
    }
   },
   "themes": {
    "default": "39285f36-51b5-4d0a-9e73-2ebd5a8be1af",
    "theme": {
     "6ab79230-cf01-495b-8464-e70da3625201": {
      "id": "6ab79230-cf01-495b-8464-e70da3625201",
      "palette": {
       "19cc588f-0593-49c9-9f4b-e4d7cc113b1c": {
        "id": "19cc588f-0593-49c9-9f4b-e4d7cc113b1c",
        "rgb": [
         252,
         252,
         252
        ]
       },
       "31af15d2-7e15-44c5-ab5e-e04b16a89eff": {
        "id": "31af15d2-7e15-44c5-ab5e-e04b16a89eff",
        "rgb": [
         68,
         68,
         68
        ]
       },
       "50f92c45-a630-455b-aec3-788680ec7410": {
        "id": "50f92c45-a630-455b-aec3-788680ec7410",
        "rgb": [
         155,
         177,
         192
        ]
       },
       "c5cc3653-2ee1-402a-aba2-7caae1da4f6c": {
        "id": "c5cc3653-2ee1-402a-aba2-7caae1da4f6c",
        "rgb": [
         43,
         126,
         184
        ]
       },
       "efa7f048-9acb-414c-8b04-a26811511a21": {
        "id": "efa7f048-9acb-414c-8b04-a26811511a21",
        "rgb": [
         25.118061674008803,
         73.60176211453744,
         107.4819383259912
        ]
       }
      },
      "rules": {
       "blockquote": {
        "color": "50f92c45-a630-455b-aec3-788680ec7410"
       },
       "code": {
        "font-family": "Anonymous Pro"
       },
       "h1": {
        "color": "c5cc3653-2ee1-402a-aba2-7caae1da4f6c",
        "font-family": "Gudea",
        "font-size": 8
       },
       "h2": {
        "color": "c5cc3653-2ee1-402a-aba2-7caae1da4f6c",
        "font-family": "Gudea",
        "font-size": 6
       },
       "h3": {
        "color": "50f92c45-a630-455b-aec3-788680ec7410",
        "font-family": "Gudea",
        "font-size": 5.5
       },
       "h4": {
        "color": "c5cc3653-2ee1-402a-aba2-7caae1da4f6c",
        "font-family": "Gudea",
        "font-size": 5
       },
       "h5": {
        "font-family": "Gudea"
       },
       "h6": {
        "font-family": "Gudea"
       },
       "h7": {
        "font-family": "Gudea"
       },
       "li": {
        "font-family": "Gudea"
       },
       "pre": {
        "font-family": "Anonymous Pro",
        "font-size": 2.5
       }
      },
      "text-base": {
       "font-family": "Gudea",
       "font-size": 3
      }
     }
    }
   }
  }
 },
 "nbformat": 4,
 "nbformat_minor": 0
}
